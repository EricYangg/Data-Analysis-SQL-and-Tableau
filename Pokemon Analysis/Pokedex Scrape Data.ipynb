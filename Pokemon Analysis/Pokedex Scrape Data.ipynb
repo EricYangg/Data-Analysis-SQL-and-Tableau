{
 "cells": [
  {
   "cell_type": "markdown",
   "id": "2a0be1cd",
   "metadata": {},
   "source": [
    "# Scraping Data from Pokédex"
   ]
  },
  {
   "cell_type": "code",
   "execution_count": 32,
   "id": "c00b593d",
   "metadata": {
    "scrolled": false
   },
   "outputs": [
    {
     "data": {
      "text/plain": [
       "'https://pokemondb.net/pokedex/national'"
      ]
     },
     "execution_count": 32,
     "metadata": {},
     "output_type": "execute_result"
    }
   ],
   "source": [
    "\"https://pokemondb.net/pokedex/national\" #main page for Pokémon Pokédex"
   ]
  },
  {
   "cell_type": "code",
   "execution_count": 33,
   "id": "d5ad4ba8",
   "metadata": {},
   "outputs": [],
   "source": [
    "from bs4 import BeautifulSoup\n",
    "import requests"
   ]
  },
  {
   "cell_type": "markdown",
   "id": "5962793d",
   "metadata": {},
   "source": [
    "- get links for each pokemon from the main page\n",
    "- check if pokemon has other forms (deoxys has attack, defense, speed. Some has mega evolution. Some have Galarian forms\n",
    "- scrape pokedex data, training, breeding, base stats, type defenses, evolution chart"
   ]
  },
  {
   "cell_type": "code",
   "execution_count": 34,
   "id": "e5d3640a",
   "metadata": {},
   "outputs": [],
   "source": [
    "main_page = 'https://pokemondb.net/pokedex/national'\n",
    "base_page = 'https://pokemondb.net'"
   ]
  },
  {
   "cell_type": "code",
   "execution_count": 35,
   "id": "9ff620b9",
   "metadata": {},
   "outputs": [],
   "source": [
    "main_soup = BeautifulSoup(requests.get(main_page).text, 'lxml')"
   ]
  },
  {
   "cell_type": "code",
   "execution_count": 36,
   "id": "9f4e66a1",
   "metadata": {},
   "outputs": [],
   "source": [
    "#print(main_soup.prettify())"
   ]
  },
  {
   "cell_type": "markdown",
   "id": "23edb58c",
   "metadata": {},
   "source": [
    "## Collecting all href values of each Pokémon"
   ]
  },
  {
   "cell_type": "markdown",
   "id": "3fe4815f",
   "metadata": {},
   "source": [
    "Links for each pokemon's individual stats under class='ent-name'"
   ]
  },
  {
   "cell_type": "code",
   "execution_count": 37,
   "id": "26c8b929",
   "metadata": {},
   "outputs": [],
   "source": [
    "href_list = []"
   ]
  },
  {
   "cell_type": "code",
   "execution_count": 38,
   "id": "1a63c0db",
   "metadata": {},
   "outputs": [],
   "source": [
    "for link in main_soup.find_all(class_='ent-name',href=True):\n",
    "    href_list.append(link['href'])"
   ]
  },
  {
   "cell_type": "code",
   "execution_count": 39,
   "id": "7c198476",
   "metadata": {},
   "outputs": [
    {
     "data": {
      "text/plain": [
       "1010"
      ]
     },
     "execution_count": 39,
     "metadata": {},
     "output_type": "execute_result"
    }
   ],
   "source": [
    "#Checking that matches with total number of pokemon (1010)\n",
    "len(href_list)"
   ]
  },
  {
   "cell_type": "markdown",
   "id": "8dda835e",
   "metadata": {},
   "source": [
    "Using the first pokemon page, get all the headings to data that will be collected to for dataframe titles"
   ]
  },
  {
   "cell_type": "code",
   "execution_count": 40,
   "id": "e61678b7",
   "metadata": {},
   "outputs": [
    {
     "data": {
      "text/plain": [
       "'https://pokemondb.net/pokedex/bulbasaur'"
      ]
     },
     "execution_count": 40,
     "metadata": {},
     "output_type": "execute_result"
    }
   ],
   "source": [
    "pokemon_page = base_page + href_list[0]\n",
    "pokemon_page"
   ]
  },
  {
   "cell_type": "code",
   "execution_count": 41,
   "id": "27ff5cb7",
   "metadata": {},
   "outputs": [],
   "source": [
    "pokemon_soup = BeautifulSoup(requests.get(pokemon_page).text, 'lxml')"
   ]
  },
  {
   "cell_type": "code",
   "execution_count": 42,
   "id": "948b9093",
   "metadata": {
    "scrolled": true
   },
   "outputs": [
    {
     "data": {
      "text/plain": [
       "[<h2>Pokédex data</h2>,\n",
       " <h2>Training</h2>,\n",
       " <h2>Breeding</h2>,\n",
       " <h2>Base stats</h2>,\n",
       " <h2>Type defenses</h2>,\n",
       " <h2>Evolution chart</h2>,\n",
       " <h2>Bulbasaur changes</h2>,\n",
       " <h2>Pokédex entries</h2>,\n",
       " <h2>Moves learned by Bulbasaur</h2>,\n",
       " <h2>Bulbasaur sprites</h2>,\n",
       " <h2>Where to find Bulbasaur</h2>,\n",
       " <h2>Answers to Bulbasaur questions</h2>,\n",
       " <h2>Other languages</h2>,\n",
       " <h2> </h2>,\n",
       " <h2><a href=\"/etymology\">Name origin</a></h2>]"
      ]
     },
     "execution_count": 42,
     "metadata": {},
     "output_type": "execute_result"
    }
   ],
   "source": [
    "headings = pokemon_soup.find_all('h2')\n",
    "headings"
   ]
  },
  {
   "cell_type": "code",
   "execution_count": 43,
   "id": "f4d2123c",
   "metadata": {},
   "outputs": [],
   "source": [
    "heading_titles = [title.text.strip() for title in headings ]"
   ]
  },
  {
   "cell_type": "code",
   "execution_count": 44,
   "id": "b3cdffc5",
   "metadata": {},
   "outputs": [
    {
     "data": {
      "text/plain": [
       "['Pokédex data',\n",
       " 'Training',\n",
       " 'Breeding',\n",
       " 'Base stats',\n",
       " 'Type defenses',\n",
       " 'Evolution chart',\n",
       " 'Bulbasaur changes',\n",
       " 'Pokédex entries',\n",
       " 'Moves learned by Bulbasaur',\n",
       " 'Bulbasaur sprites',\n",
       " 'Where to find Bulbasaur',\n",
       " 'Answers to Bulbasaur questions',\n",
       " 'Other languages',\n",
       " '',\n",
       " 'Name origin']"
      ]
     },
     "execution_count": 44,
     "metadata": {},
     "output_type": "execute_result"
    }
   ],
   "source": [
    "#Only using 'Pokédex data','Training','Breeding','Base stats','Type defenses','Evolution chart'\n",
    "heading_titles"
   ]
  },
  {
   "cell_type": "code",
   "execution_count": 45,
   "id": "4aa2a841",
   "metadata": {},
   "outputs": [
    {
     "data": {
      "text/plain": [
       "['Pokédex data', 'Training', 'Breeding', 'Base stats', 'Type defenses']"
      ]
     },
     "execution_count": 45,
     "metadata": {},
     "output_type": "execute_result"
    }
   ],
   "source": [
    "heading_titles = heading_titles[:5]\n",
    "heading_titles"
   ]
  },
  {
   "cell_type": "markdown",
   "id": "37da217b",
   "metadata": {},
   "source": [
    "### Sections below will be heading 2s under the titles just collected"
   ]
  },
  {
   "cell_type": "code",
   "execution_count": 46,
   "id": "f34978a6",
   "metadata": {},
   "outputs": [],
   "source": [
    "subtitles = []\n",
    "for i, titles in enumerate(heading_titles):\n",
    "    target_heading = pokemon_soup.find('h2', text=titles)\n",
    "    next_sibling = target_heading.find_next()\n",
    "    #next element names need to be table or div\n",
    "\n",
    "    while next_sibling.name != 'table' and next_sibling.name != 'div':\n",
    "        next_sibling = next_sibling.find_next()\n",
    "        \n",
    "    tags = next_sibling.find_all('th')\n",
    "    #if it has a title value, use that instead of just the text\n",
    "    set_text = []\n",
    "    for th in tags: \n",
    "        a_tag = th.find('a', title=True)\n",
    "        if a_tag:\n",
    "            set_text.append(a_tag['title'])\n",
    "        else:\n",
    "            set_text.append(th.get_text())\n",
    "    subtitles.append(set_text)"
   ]
  },
  {
   "cell_type": "code",
   "execution_count": 47,
   "id": "ea2f8bbc",
   "metadata": {
    "scrolled": true
   },
   "outputs": [
    {
     "data": {
      "text/plain": [
       "[['National №', 'Type', 'Species', 'Height', 'Weight', 'Abilities', 'Local №'],\n",
       " ['EV yield', 'Catch rate', 'Base Friendship', 'Base Exp.', 'Growth Rate'],\n",
       " ['Egg Groups', 'Gender', 'Egg cycles'],\n",
       " ['HP',\n",
       "  'Attack',\n",
       "  'Defense',\n",
       "  'Sp. Atk',\n",
       "  'Sp. Def',\n",
       "  'Speed',\n",
       "  'Total',\n",
       "  '',\n",
       "  'Min',\n",
       "  'Max'],\n",
       " ['Normal',\n",
       "  'Fire',\n",
       "  'Water',\n",
       "  'Electric',\n",
       "  'Grass',\n",
       "  'Ice',\n",
       "  'Fighting',\n",
       "  'Poison',\n",
       "  'Ground',\n",
       "  'Flying',\n",
       "  'Psychic',\n",
       "  'Bug',\n",
       "  'Rock',\n",
       "  'Ghost',\n",
       "  'Dragon',\n",
       "  'Dark',\n",
       "  'Steel',\n",
       "  'Fairy']]"
      ]
     },
     "execution_count": 47,
     "metadata": {},
     "output_type": "execute_result"
    }
   ],
   "source": [
    "subtitles"
   ]
  },
  {
   "cell_type": "code",
   "execution_count": 48,
   "id": "a3b233f4",
   "metadata": {
    "scrolled": true
   },
   "outputs": [
    {
     "data": {
      "text/plain": [
       "['HP', 'Attack', 'Defense', 'Sp. Atk', 'Sp. Def', 'Speed', 'Total']"
      ]
     },
     "execution_count": 48,
     "metadata": {},
     "output_type": "execute_result"
    }
   ],
   "source": [
    "#removing the min and max at end \n",
    "del subtitles[3][7:]\n",
    "subtitles[3]"
   ]
  },
  {
   "cell_type": "code",
   "execution_count": 49,
   "id": "03a40cfa",
   "metadata": {
    "scrolled": false
   },
   "outputs": [],
   "source": [
    "#adding min and max stats after each stat\n",
    "base_stats_titles = []\n",
    "for i, title in enumerate(subtitles[3]):\n",
    "    base_stats_titles.append(title)\n",
    "    if(i<len(subtitles[3])-1):\n",
    "        base_stats_titles.append(\"Min \" + title)\n",
    "        base_stats_titles.append(\"Max \" + title)"
   ]
  },
  {
   "cell_type": "code",
   "execution_count": 50,
   "id": "e181f6ae",
   "metadata": {
    "scrolled": true
   },
   "outputs": [
    {
     "data": {
      "text/plain": [
       "[['National №', 'Type', 'Species', 'Height', 'Weight', 'Abilities', 'Local №'],\n",
       " ['EV yield', 'Catch rate', 'Base Friendship', 'Base Exp.', 'Growth Rate'],\n",
       " ['Egg Groups', 'Gender', 'Egg cycles'],\n",
       " ['HP',\n",
       "  'Min HP',\n",
       "  'Max HP',\n",
       "  'Attack',\n",
       "  'Min Attack',\n",
       "  'Max Attack',\n",
       "  'Defense',\n",
       "  'Min Defense',\n",
       "  'Max Defense',\n",
       "  'Sp. Atk',\n",
       "  'Min Sp. Atk',\n",
       "  'Max Sp. Atk',\n",
       "  'Sp. Def',\n",
       "  'Min Sp. Def',\n",
       "  'Max Sp. Def',\n",
       "  'Speed',\n",
       "  'Min Speed',\n",
       "  'Max Speed',\n",
       "  'Total'],\n",
       " ['Normal',\n",
       "  'Fire',\n",
       "  'Water',\n",
       "  'Electric',\n",
       "  'Grass',\n",
       "  'Ice',\n",
       "  'Fighting',\n",
       "  'Poison',\n",
       "  'Ground',\n",
       "  'Flying',\n",
       "  'Psychic',\n",
       "  'Bug',\n",
       "  'Rock',\n",
       "  'Ghost',\n",
       "  'Dragon',\n",
       "  'Dark',\n",
       "  'Steel',\n",
       "  'Fairy']]"
      ]
     },
     "execution_count": 50,
     "metadata": {},
     "output_type": "execute_result"
    }
   ],
   "source": [
    "subtitles[3]=base_stats_titles\n",
    "subtitles"
   ]
  },
  {
   "cell_type": "code",
   "execution_count": 51,
   "id": "315926b4",
   "metadata": {
    "scrolled": true
   },
   "outputs": [
    {
     "data": {
      "text/plain": [
       "[['National Number',\n",
       "  'Type',\n",
       "  'Species',\n",
       "  'Height',\n",
       "  'Weight',\n",
       "  'Abilities',\n",
       "  'Local Number'],\n",
       " ['EV yield', 'Catch rate', 'Base Friendship', 'Base Exp.', 'Growth Rate'],\n",
       " ['Egg Groups', 'Gender', 'Egg cycles'],\n",
       " ['HP',\n",
       "  'Min HP',\n",
       "  'Max HP',\n",
       "  'Attack',\n",
       "  'Min Attack',\n",
       "  'Max Attack',\n",
       "  'Defense',\n",
       "  'Min Defense',\n",
       "  'Max Defense',\n",
       "  'Sp. Atk',\n",
       "  'Min Sp. Atk',\n",
       "  'Max Sp. Atk',\n",
       "  'Sp. Def',\n",
       "  'Min Sp. Def',\n",
       "  'Max Sp. Def',\n",
       "  'Speed',\n",
       "  'Min Speed',\n",
       "  'Max Speed',\n",
       "  'Total'],\n",
       " ['Normal',\n",
       "  'Fire',\n",
       "  'Water',\n",
       "  'Electric',\n",
       "  'Grass',\n",
       "  'Ice',\n",
       "  'Fighting',\n",
       "  'Poison',\n",
       "  'Ground',\n",
       "  'Flying',\n",
       "  'Psychic',\n",
       "  'Bug',\n",
       "  'Rock',\n",
       "  'Ghost',\n",
       "  'Dragon',\n",
       "  'Dark',\n",
       "  'Steel',\n",
       "  'Fairy']]"
      ]
     },
     "execution_count": 51,
     "metadata": {},
     "output_type": "execute_result"
    }
   ],
   "source": [
    "#Replacing titles with № to Number since it will be hard to use\n",
    "final_subtitles = subtitles\n",
    "final_subtitles[0][0] = 'National Number'\n",
    "final_subtitles[0][6] = 'Local Number'\n",
    "final_subtitles"
   ]
  },
  {
   "cell_type": "markdown",
   "id": "d6373847",
   "metadata": {},
   "source": [
    "creating empty dataframe with headings"
   ]
  },
  {
   "cell_type": "code",
   "execution_count": 52,
   "id": "6e81330a",
   "metadata": {},
   "outputs": [],
   "source": [
    "import pandas as pd"
   ]
  },
  {
   "cell_type": "code",
   "execution_count": 53,
   "id": "fd3edf7b",
   "metadata": {},
   "outputs": [],
   "source": [
    "col_names = ['Name', 'Image', 'Generation']\n",
    "for title in final_subtitles:\n",
    "    col_names.extend(title)"
   ]
  },
  {
   "cell_type": "code",
   "execution_count": 54,
   "id": "6fbd50ac",
   "metadata": {},
   "outputs": [
    {
     "data": {
      "text/html": [
       "<div>\n",
       "<style scoped>\n",
       "    .dataframe tbody tr th:only-of-type {\n",
       "        vertical-align: middle;\n",
       "    }\n",
       "\n",
       "    .dataframe tbody tr th {\n",
       "        vertical-align: top;\n",
       "    }\n",
       "\n",
       "    .dataframe thead th {\n",
       "        text-align: right;\n",
       "    }\n",
       "</style>\n",
       "<table border=\"1\" class=\"dataframe\">\n",
       "  <thead>\n",
       "    <tr style=\"text-align: right;\">\n",
       "      <th></th>\n",
       "      <th>Name</th>\n",
       "      <th>Image</th>\n",
       "      <th>Generation</th>\n",
       "      <th>National Number</th>\n",
       "      <th>Type</th>\n",
       "      <th>Species</th>\n",
       "      <th>Height</th>\n",
       "      <th>Weight</th>\n",
       "      <th>Abilities</th>\n",
       "      <th>Local Number</th>\n",
       "      <th>...</th>\n",
       "      <th>Ground</th>\n",
       "      <th>Flying</th>\n",
       "      <th>Psychic</th>\n",
       "      <th>Bug</th>\n",
       "      <th>Rock</th>\n",
       "      <th>Ghost</th>\n",
       "      <th>Dragon</th>\n",
       "      <th>Dark</th>\n",
       "      <th>Steel</th>\n",
       "      <th>Fairy</th>\n",
       "    </tr>\n",
       "  </thead>\n",
       "  <tbody>\n",
       "  </tbody>\n",
       "</table>\n",
       "<p>0 rows × 55 columns</p>\n",
       "</div>"
      ],
      "text/plain": [
       "Empty DataFrame\n",
       "Columns: [Name, Image, Generation, National Number, Type, Species, Height, Weight, Abilities, Local Number, EV yield, Catch rate, Base Friendship, Base Exp., Growth Rate, Egg Groups, Gender, Egg cycles, HP, Min HP, Max HP, Attack, Min Attack, Max Attack, Defense, Min Defense, Max Defense, Sp. Atk, Min Sp. Atk, Max Sp. Atk, Sp. Def, Min Sp. Def, Max Sp. Def, Speed, Min Speed, Max Speed, Total, Normal, Fire, Water, Electric, Grass, Ice, Fighting, Poison, Ground, Flying, Psychic, Bug, Rock, Ghost, Dragon, Dark, Steel, Fairy]\n",
       "Index: []\n",
       "\n",
       "[0 rows x 55 columns]"
      ]
     },
     "execution_count": 54,
     "metadata": {},
     "output_type": "execute_result"
    }
   ],
   "source": [
    "df = pd.DataFrame(columns=col_names)\n",
    "df"
   ]
  },
  {
   "cell_type": "markdown",
   "id": "eb629f03",
   "metadata": {},
   "source": [
    "# Create Functions for each data section"
   ]
  },
  {
   "cell_type": "code",
   "execution_count": 55,
   "id": "744e6c9f",
   "metadata": {},
   "outputs": [],
   "source": [
    "#this function will take the soup and returns the names on the tabs for the pokemon\n",
    "def FindNames(soup):\n",
    "    names = soup.find(class_='sv-tabs-tab-list').text.strip().split('\\n')\n",
    "    return names"
   ]
  },
  {
   "cell_type": "code",
   "execution_count": 56,
   "id": "61b73242",
   "metadata": {},
   "outputs": [],
   "source": [
    "#this function will return the href for the image for the pokemon\n",
    "def FindImage(soup):\n",
    "    href = soup.find('img')['src']\n",
    "    return href"
   ]
  },
  {
   "cell_type": "code",
   "execution_count": 57,
   "id": "8924ff38",
   "metadata": {},
   "outputs": [],
   "source": [
    "#this function will get the generation of the pokemon \n",
    "def FindGen(soup):\n",
    "    gen = soup.find('abbr').text\n",
    "    return gen"
   ]
  },
  {
   "cell_type": "code",
   "execution_count": 58,
   "id": "4c9545c6",
   "metadata": {},
   "outputs": [],
   "source": [
    "#This function will return the data from the pokedex, training, breeding, and base stats tables\n",
    "def TableData(table):\n",
    "    stats = [] \n",
    "    for i, data in enumerate(table):\n",
    "        if '\\n\\n' not in data.text:\n",
    "            stats.append(data.text.strip())\n",
    "    return stats"
   ]
  },
  {
   "cell_type": "code",
   "execution_count": 59,
   "id": "38ca7c53",
   "metadata": {},
   "outputs": [],
   "source": [
    "import re"
   ]
  },
  {
   "cell_type": "code",
   "execution_count": 60,
   "id": "d2c8cc20",
   "metadata": {},
   "outputs": [],
   "source": [
    "#This function will return the type defenses for the pokemon\n",
    "def TypeTable(table):\n",
    "    def_stats = [] \n",
    "    for i, data in enumerate(table):\n",
    "        text = str(data)\n",
    "        substring = \"fx-\"\n",
    "\n",
    "        # Find the index where the substring occurs\n",
    "        start_index = text.find(substring)\n",
    "\n",
    "        if start_index != -1:\n",
    "            # Extract the characters after the substring that are numbers\n",
    "            result = re.findall(r'\\d+', text[start_index + len(substring):])\n",
    "            def_stats.append(result[0])\n",
    "        else:\n",
    "            print(\"Substring not found\")\n",
    "    return def_stats"
   ]
  },
  {
   "cell_type": "markdown",
   "id": "8507f075",
   "metadata": {},
   "source": [
    "# Scrape Data"
   ]
  },
  {
   "cell_type": "markdown",
   "id": "26784645",
   "metadata": {},
   "source": [
    "- for loop for each pokemon href from main page\n",
    "- get list of names on tab\n",
    "- for loop for each tab\n",
    "    - get data for pokedex\n",
    "    - get data for training\n",
    "    - get data for breeding\n",
    "    - get data for base stats\n",
    "    - get data for defense types\n",
    "    - combine data and append on to dataframe"
   ]
  },
  {
   "cell_type": "code",
   "execution_count": 61,
   "id": "0ea538a7",
   "metadata": {},
   "outputs": [
    {
     "name": "stdout",
     "output_type": "stream",
     "text": [
      "Wall time: 1min 55s\n"
     ]
    }
   ],
   "source": [
    "%%time\n",
    "for i,href in enumerate(href_list):\n",
    "\n",
    "    #Make soup \n",
    "    page = base_page + href\n",
    "    soup = BeautifulSoup(requests.get(page).text, 'lxml')\n",
    "    \n",
    "    #Get list of names on page tab\n",
    "    names = FindNames(soup)\n",
    "    \n",
    "    image = soup.find('div', class_='sv-tabs-panel')\n",
    "    \n",
    "    for j, name in enumerate(names):\n",
    "        pokemon = []\n",
    "        pokemon.append(name)\n",
    "        \n",
    "        #Get image url \n",
    "        if(j==0):\n",
    "            pokemon.append(FindImage(image))\n",
    "        else:\n",
    "            images = []\n",
    "            next_sib = image.find_next_siblings('div',limit = len(names))\n",
    "            images = FindImage(next_sib[j-1])\n",
    "            pokemon.append(images)\n",
    "        \n",
    "        #Get generation of pokemon\n",
    "        generation = FindGen(soup)\n",
    "        pokemon.append(generation)\n",
    "        \n",
    "        #Get pokedex, training, breeding, and base stats data\n",
    "        tables = soup.find_all('table', class_='vitals-table')\n",
    "        for k,table in enumerate(tables):\n",
    "            if k >3:\n",
    "                break\n",
    "            pokemon.extend(TableData(table.find_all('td')))\n",
    "            \n",
    "        #Get defense types data\n",
    "        def_stats = soup.find('div', class_='resp-scroll text-center').find_all('td')\n",
    "        pokemon.extend(TypeTable(def_stats))\n",
    "        \n",
    "        #append on to df\n",
    "        df.loc[len(df)] = pokemon"
   ]
  },
  {
   "cell_type": "code",
   "execution_count": 62,
   "id": "72188ece",
   "metadata": {},
   "outputs": [
    {
     "data": {
      "text/html": [
       "<div>\n",
       "<style scoped>\n",
       "    .dataframe tbody tr th:only-of-type {\n",
       "        vertical-align: middle;\n",
       "    }\n",
       "\n",
       "    .dataframe tbody tr th {\n",
       "        vertical-align: top;\n",
       "    }\n",
       "\n",
       "    .dataframe thead th {\n",
       "        text-align: right;\n",
       "    }\n",
       "</style>\n",
       "<table border=\"1\" class=\"dataframe\">\n",
       "  <thead>\n",
       "    <tr style=\"text-align: right;\">\n",
       "      <th></th>\n",
       "      <th>Name</th>\n",
       "      <th>Image</th>\n",
       "      <th>Generation</th>\n",
       "      <th>National Number</th>\n",
       "      <th>Type</th>\n",
       "      <th>Species</th>\n",
       "      <th>Height</th>\n",
       "      <th>Weight</th>\n",
       "      <th>Abilities</th>\n",
       "      <th>Local Number</th>\n",
       "      <th>...</th>\n",
       "      <th>Ground</th>\n",
       "      <th>Flying</th>\n",
       "      <th>Psychic</th>\n",
       "      <th>Bug</th>\n",
       "      <th>Rock</th>\n",
       "      <th>Ghost</th>\n",
       "      <th>Dragon</th>\n",
       "      <th>Dark</th>\n",
       "      <th>Steel</th>\n",
       "      <th>Fairy</th>\n",
       "    </tr>\n",
       "  </thead>\n",
       "  <tbody>\n",
       "    <tr>\n",
       "      <th>0</th>\n",
       "      <td>Bulbasaur</td>\n",
       "      <td>https://img.pokemondb.net/artwork/bulbasaur.jpg</td>\n",
       "      <td>Generation 1</td>\n",
       "      <td>0001</td>\n",
       "      <td>Grass Poison</td>\n",
       "      <td>Seed Pokémon</td>\n",
       "      <td>0.7 m (2′04″)</td>\n",
       "      <td>6.9 kg (15.2 lbs)</td>\n",
       "      <td>1. OvergrowChlorophyll (hidden ability)</td>\n",
       "      <td>0001 (Red/Blue/Yellow)0226 (Gold/Silver/Crysta...</td>\n",
       "      <td>...</td>\n",
       "      <td>100</td>\n",
       "      <td>200</td>\n",
       "      <td>200</td>\n",
       "      <td>100</td>\n",
       "      <td>100</td>\n",
       "      <td>100</td>\n",
       "      <td>100</td>\n",
       "      <td>100</td>\n",
       "      <td>100</td>\n",
       "      <td>50</td>\n",
       "    </tr>\n",
       "    <tr>\n",
       "      <th>1</th>\n",
       "      <td>Ivysaur</td>\n",
       "      <td>https://img.pokemondb.net/artwork/ivysaur.jpg</td>\n",
       "      <td>Generation 1</td>\n",
       "      <td>0002</td>\n",
       "      <td>Grass Poison</td>\n",
       "      <td>Seed Pokémon</td>\n",
       "      <td>1.0 m (3′03″)</td>\n",
       "      <td>13.0 kg (28.7 lbs)</td>\n",
       "      <td>1. OvergrowChlorophyll (hidden ability)</td>\n",
       "      <td>0002 (Red/Blue/Yellow)0227 (Gold/Silver/Crysta...</td>\n",
       "      <td>...</td>\n",
       "      <td>100</td>\n",
       "      <td>200</td>\n",
       "      <td>200</td>\n",
       "      <td>100</td>\n",
       "      <td>100</td>\n",
       "      <td>100</td>\n",
       "      <td>100</td>\n",
       "      <td>100</td>\n",
       "      <td>100</td>\n",
       "      <td>50</td>\n",
       "    </tr>\n",
       "    <tr>\n",
       "      <th>2</th>\n",
       "      <td>Venusaur</td>\n",
       "      <td>https://img.pokemondb.net/artwork/venusaur.jpg</td>\n",
       "      <td>Generation 1</td>\n",
       "      <td>0003</td>\n",
       "      <td>Grass Poison</td>\n",
       "      <td>Seed Pokémon</td>\n",
       "      <td>2.0 m (6′07″)</td>\n",
       "      <td>100.0 kg (220.5 lbs)</td>\n",
       "      <td>1. OvergrowChlorophyll (hidden ability)</td>\n",
       "      <td>0003 (Red/Blue/Yellow)0228 (Gold/Silver/Crysta...</td>\n",
       "      <td>...</td>\n",
       "      <td>100</td>\n",
       "      <td>200</td>\n",
       "      <td>200</td>\n",
       "      <td>100</td>\n",
       "      <td>100</td>\n",
       "      <td>100</td>\n",
       "      <td>100</td>\n",
       "      <td>100</td>\n",
       "      <td>100</td>\n",
       "      <td>50</td>\n",
       "    </tr>\n",
       "    <tr>\n",
       "      <th>3</th>\n",
       "      <td>Mega Venusaur</td>\n",
       "      <td>https://img.pokemondb.net/artwork/venusaur-meg...</td>\n",
       "      <td>Generation 1</td>\n",
       "      <td>0003</td>\n",
       "      <td>Grass Poison</td>\n",
       "      <td>Seed Pokémon</td>\n",
       "      <td>2.0 m (6′07″)</td>\n",
       "      <td>100.0 kg (220.5 lbs)</td>\n",
       "      <td>1. OvergrowChlorophyll (hidden ability)</td>\n",
       "      <td>0003 (Red/Blue/Yellow)0228 (Gold/Silver/Crysta...</td>\n",
       "      <td>...</td>\n",
       "      <td>100</td>\n",
       "      <td>200</td>\n",
       "      <td>200</td>\n",
       "      <td>100</td>\n",
       "      <td>100</td>\n",
       "      <td>100</td>\n",
       "      <td>100</td>\n",
       "      <td>100</td>\n",
       "      <td>100</td>\n",
       "      <td>50</td>\n",
       "    </tr>\n",
       "    <tr>\n",
       "      <th>4</th>\n",
       "      <td>Charmander</td>\n",
       "      <td>https://img.pokemondb.net/artwork/charmander.jpg</td>\n",
       "      <td>Generation 1</td>\n",
       "      <td>0004</td>\n",
       "      <td>Fire</td>\n",
       "      <td>Lizard Pokémon</td>\n",
       "      <td>0.6 m (2′00″)</td>\n",
       "      <td>8.5 kg (18.7 lbs)</td>\n",
       "      <td>1. BlazeSolar Power (hidden ability)</td>\n",
       "      <td>0004 (Red/Blue/Yellow)0229 (Gold/Silver/Crysta...</td>\n",
       "      <td>...</td>\n",
       "      <td>200</td>\n",
       "      <td>100</td>\n",
       "      <td>100</td>\n",
       "      <td>50</td>\n",
       "      <td>200</td>\n",
       "      <td>100</td>\n",
       "      <td>100</td>\n",
       "      <td>100</td>\n",
       "      <td>50</td>\n",
       "      <td>50</td>\n",
       "    </tr>\n",
       "    <tr>\n",
       "      <th>...</th>\n",
       "      <td>...</td>\n",
       "      <td>...</td>\n",
       "      <td>...</td>\n",
       "      <td>...</td>\n",
       "      <td>...</td>\n",
       "      <td>...</td>\n",
       "      <td>...</td>\n",
       "      <td>...</td>\n",
       "      <td>...</td>\n",
       "      <td>...</td>\n",
       "      <td>...</td>\n",
       "      <td>...</td>\n",
       "      <td>...</td>\n",
       "      <td>...</td>\n",
       "      <td>...</td>\n",
       "      <td>...</td>\n",
       "      <td>...</td>\n",
       "      <td>...</td>\n",
       "      <td>...</td>\n",
       "      <td>...</td>\n",
       "      <td>...</td>\n",
       "    </tr>\n",
       "    <tr>\n",
       "      <th>1189</th>\n",
       "      <td>Iron Valiant</td>\n",
       "      <td>https://img.pokemondb.net/artwork/iron-valiant...</td>\n",
       "      <td>Generation 9</td>\n",
       "      <td>1006</td>\n",
       "      <td>Fairy Fighting</td>\n",
       "      <td>Paradox Pokémon</td>\n",
       "      <td>1.4 m (4′07″)</td>\n",
       "      <td>35.0 kg (77.2 lbs)</td>\n",
       "      <td>1. Quark Drive</td>\n",
       "      <td>0398 (Scarlet/Violet)</td>\n",
       "      <td>...</td>\n",
       "      <td>100</td>\n",
       "      <td>200</td>\n",
       "      <td>200</td>\n",
       "      <td>25</td>\n",
       "      <td>50</td>\n",
       "      <td>100</td>\n",
       "      <td>0</td>\n",
       "      <td>25</td>\n",
       "      <td>200</td>\n",
       "      <td>200</td>\n",
       "    </tr>\n",
       "    <tr>\n",
       "      <th>1190</th>\n",
       "      <td>Koraidon</td>\n",
       "      <td>https://img.pokemondb.net/artwork/koraidon.jpg</td>\n",
       "      <td>Generation 9</td>\n",
       "      <td>1007</td>\n",
       "      <td>Fighting Dragon</td>\n",
       "      <td>Paradox Pokémon</td>\n",
       "      <td>2.5 m (8′02″)</td>\n",
       "      <td>303.0 kg (668.0 lbs)</td>\n",
       "      <td>1. Orichalcum Pulse</td>\n",
       "      <td>0399 (Scarlet/Violet)</td>\n",
       "      <td>...</td>\n",
       "      <td>100</td>\n",
       "      <td>200</td>\n",
       "      <td>200</td>\n",
       "      <td>50</td>\n",
       "      <td>50</td>\n",
       "      <td>100</td>\n",
       "      <td>200</td>\n",
       "      <td>50</td>\n",
       "      <td>100</td>\n",
       "      <td>400</td>\n",
       "    </tr>\n",
       "    <tr>\n",
       "      <th>1191</th>\n",
       "      <td>Miraidon</td>\n",
       "      <td>https://img.pokemondb.net/artwork/miraidon.jpg</td>\n",
       "      <td>Generation 9</td>\n",
       "      <td>1008</td>\n",
       "      <td>Electric Dragon</td>\n",
       "      <td>Paradox Pokémon</td>\n",
       "      <td>3.5 m (11′06″)</td>\n",
       "      <td>240.0 kg (529.1 lbs)</td>\n",
       "      <td>1. Hadron Engine</td>\n",
       "      <td>0400 (Scarlet/Violet)</td>\n",
       "      <td>...</td>\n",
       "      <td>200</td>\n",
       "      <td>50</td>\n",
       "      <td>100</td>\n",
       "      <td>100</td>\n",
       "      <td>100</td>\n",
       "      <td>100</td>\n",
       "      <td>200</td>\n",
       "      <td>100</td>\n",
       "      <td>50</td>\n",
       "      <td>200</td>\n",
       "    </tr>\n",
       "    <tr>\n",
       "      <th>1192</th>\n",
       "      <td>Walking Wake</td>\n",
       "      <td>https://img.pokemondb.net/artwork/walking-wake...</td>\n",
       "      <td>Generation 9</td>\n",
       "      <td>1009</td>\n",
       "      <td>Water Dragon</td>\n",
       "      <td>Paradox Pokémon</td>\n",
       "      <td>3.5 m (11′06″)</td>\n",
       "      <td>280.0 kg (617.3 lbs)</td>\n",
       "      <td>1. Protosynthesis</td>\n",
       "      <td>—</td>\n",
       "      <td>...</td>\n",
       "      <td>100</td>\n",
       "      <td>100</td>\n",
       "      <td>100</td>\n",
       "      <td>100</td>\n",
       "      <td>100</td>\n",
       "      <td>100</td>\n",
       "      <td>200</td>\n",
       "      <td>100</td>\n",
       "      <td>50</td>\n",
       "      <td>200</td>\n",
       "    </tr>\n",
       "    <tr>\n",
       "      <th>1193</th>\n",
       "      <td>Iron Leaves</td>\n",
       "      <td>https://img.pokemondb.net/artwork/iron-leaves.jpg</td>\n",
       "      <td>Generation 9</td>\n",
       "      <td>1010</td>\n",
       "      <td>Grass Psychic</td>\n",
       "      <td>Paradox Pokémon</td>\n",
       "      <td>1.5 m (4′11″)</td>\n",
       "      <td>125.0 kg (275.6 lbs)</td>\n",
       "      <td>1. Quark Drive</td>\n",
       "      <td>—</td>\n",
       "      <td>...</td>\n",
       "      <td>50</td>\n",
       "      <td>200</td>\n",
       "      <td>50</td>\n",
       "      <td>400</td>\n",
       "      <td>100</td>\n",
       "      <td>200</td>\n",
       "      <td>100</td>\n",
       "      <td>200</td>\n",
       "      <td>100</td>\n",
       "      <td>100</td>\n",
       "    </tr>\n",
       "  </tbody>\n",
       "</table>\n",
       "<p>1194 rows × 55 columns</p>\n",
       "</div>"
      ],
      "text/plain": [
       "               Name                                              Image  \\\n",
       "0         Bulbasaur    https://img.pokemondb.net/artwork/bulbasaur.jpg   \n",
       "1           Ivysaur      https://img.pokemondb.net/artwork/ivysaur.jpg   \n",
       "2          Venusaur     https://img.pokemondb.net/artwork/venusaur.jpg   \n",
       "3     Mega Venusaur  https://img.pokemondb.net/artwork/venusaur-meg...   \n",
       "4        Charmander   https://img.pokemondb.net/artwork/charmander.jpg   \n",
       "...             ...                                                ...   \n",
       "1189   Iron Valiant  https://img.pokemondb.net/artwork/iron-valiant...   \n",
       "1190       Koraidon     https://img.pokemondb.net/artwork/koraidon.jpg   \n",
       "1191       Miraidon     https://img.pokemondb.net/artwork/miraidon.jpg   \n",
       "1192   Walking Wake  https://img.pokemondb.net/artwork/walking-wake...   \n",
       "1193    Iron Leaves  https://img.pokemondb.net/artwork/iron-leaves.jpg   \n",
       "\n",
       "        Generation National Number             Type          Species  \\\n",
       "0     Generation 1            0001     Grass Poison     Seed Pokémon   \n",
       "1     Generation 1            0002     Grass Poison     Seed Pokémon   \n",
       "2     Generation 1            0003     Grass Poison     Seed Pokémon   \n",
       "3     Generation 1            0003     Grass Poison     Seed Pokémon   \n",
       "4     Generation 1            0004             Fire   Lizard Pokémon   \n",
       "...            ...             ...              ...              ...   \n",
       "1189  Generation 9            1006   Fairy Fighting  Paradox Pokémon   \n",
       "1190  Generation 9            1007  Fighting Dragon  Paradox Pokémon   \n",
       "1191  Generation 9            1008  Electric Dragon  Paradox Pokémon   \n",
       "1192  Generation 9            1009     Water Dragon  Paradox Pokémon   \n",
       "1193  Generation 9            1010    Grass Psychic  Paradox Pokémon   \n",
       "\n",
       "              Height                Weight  \\\n",
       "0      0.7 m (2′04″)     6.9 kg (15.2 lbs)   \n",
       "1      1.0 m (3′03″)    13.0 kg (28.7 lbs)   \n",
       "2      2.0 m (6′07″)  100.0 kg (220.5 lbs)   \n",
       "3      2.0 m (6′07″)  100.0 kg (220.5 lbs)   \n",
       "4      0.6 m (2′00″)     8.5 kg (18.7 lbs)   \n",
       "...              ...                   ...   \n",
       "1189   1.4 m (4′07″)    35.0 kg (77.2 lbs)   \n",
       "1190   2.5 m (8′02″)  303.0 kg (668.0 lbs)   \n",
       "1191  3.5 m (11′06″)  240.0 kg (529.1 lbs)   \n",
       "1192  3.5 m (11′06″)  280.0 kg (617.3 lbs)   \n",
       "1193   1.5 m (4′11″)  125.0 kg (275.6 lbs)   \n",
       "\n",
       "                                    Abilities  \\\n",
       "0     1. OvergrowChlorophyll (hidden ability)   \n",
       "1     1. OvergrowChlorophyll (hidden ability)   \n",
       "2     1. OvergrowChlorophyll (hidden ability)   \n",
       "3     1. OvergrowChlorophyll (hidden ability)   \n",
       "4        1. BlazeSolar Power (hidden ability)   \n",
       "...                                       ...   \n",
       "1189                           1. Quark Drive   \n",
       "1190                      1. Orichalcum Pulse   \n",
       "1191                         1. Hadron Engine   \n",
       "1192                        1. Protosynthesis   \n",
       "1193                           1. Quark Drive   \n",
       "\n",
       "                                           Local Number  ... Ground Flying  \\\n",
       "0     0001 (Red/Blue/Yellow)0226 (Gold/Silver/Crysta...  ...    100    200   \n",
       "1     0002 (Red/Blue/Yellow)0227 (Gold/Silver/Crysta...  ...    100    200   \n",
       "2     0003 (Red/Blue/Yellow)0228 (Gold/Silver/Crysta...  ...    100    200   \n",
       "3     0003 (Red/Blue/Yellow)0228 (Gold/Silver/Crysta...  ...    100    200   \n",
       "4     0004 (Red/Blue/Yellow)0229 (Gold/Silver/Crysta...  ...    200    100   \n",
       "...                                                 ...  ...    ...    ...   \n",
       "1189                              0398 (Scarlet/Violet)  ...    100    200   \n",
       "1190                              0399 (Scarlet/Violet)  ...    100    200   \n",
       "1191                              0400 (Scarlet/Violet)  ...    200     50   \n",
       "1192                                                  —  ...    100    100   \n",
       "1193                                                  —  ...     50    200   \n",
       "\n",
       "     Psychic  Bug Rock Ghost Dragon Dark Steel Fairy  \n",
       "0        200  100  100   100    100  100   100    50  \n",
       "1        200  100  100   100    100  100   100    50  \n",
       "2        200  100  100   100    100  100   100    50  \n",
       "3        200  100  100   100    100  100   100    50  \n",
       "4        100   50  200   100    100  100    50    50  \n",
       "...      ...  ...  ...   ...    ...  ...   ...   ...  \n",
       "1189     200   25   50   100      0   25   200   200  \n",
       "1190     200   50   50   100    200   50   100   400  \n",
       "1191     100  100  100   100    200  100    50   200  \n",
       "1192     100  100  100   100    200  100    50   200  \n",
       "1193      50  400  100   200    100  200   100   100  \n",
       "\n",
       "[1194 rows x 55 columns]"
      ]
     },
     "execution_count": 62,
     "metadata": {},
     "output_type": "execute_result"
    }
   ],
   "source": [
    "df"
   ]
  },
  {
   "cell_type": "markdown",
   "id": "7c358b74",
   "metadata": {},
   "source": [
    "# Export Uncleaned Data"
   ]
  },
  {
   "cell_type": "code",
   "execution_count": 36,
   "id": "354c0a2c",
   "metadata": {},
   "outputs": [],
   "source": [
    "df.to_csv('Datasets/Uncleaned_Pokemon_Stats.csv', index=False, encoding='utf-8-sig')"
   ]
  },
  {
   "cell_type": "markdown",
   "id": "cc84d893",
   "metadata": {},
   "source": [
    "# Scrape Legendary and Mythical List"
   ]
  },
  {
   "cell_type": "code",
   "execution_count": 71,
   "id": "a5e8afd6",
   "metadata": {},
   "outputs": [],
   "source": [
    "page = 'https://www.serebii.net/pokemon/legendary.shtml#legend'"
   ]
  },
  {
   "cell_type": "code",
   "execution_count": 72,
   "id": "6af4b840",
   "metadata": {},
   "outputs": [],
   "source": [
    "soup = BeautifulSoup(requests.get(page).text, 'lxml')"
   ]
  },
  {
   "cell_type": "code",
   "execution_count": 109,
   "id": "bc705d51",
   "metadata": {},
   "outputs": [],
   "source": [
    "tables = soup.find_all('table', class_='trainer')"
   ]
  },
  {
   "cell_type": "code",
   "execution_count": 137,
   "id": "333aedae",
   "metadata": {},
   "outputs": [],
   "source": [
    "legendary=tables[1].find_all('td', valign='top')"
   ]
  },
  {
   "cell_type": "code",
   "execution_count": 145,
   "id": "b9f79072",
   "metadata": {},
   "outputs": [
    {
     "data": {
      "text/plain": [
       "'Mewtwo'"
      ]
     },
     "execution_count": 145,
     "metadata": {},
     "output_type": "execute_result"
    }
   ],
   "source": [
    "legendary[0].find_all('a')[1].text"
   ]
  },
  {
   "cell_type": "code",
   "execution_count": 150,
   "id": "f525b7fd",
   "metadata": {
    "scrolled": true
   },
   "outputs": [
    {
     "data": {
      "text/plain": [
       "['Mewtwo',\n",
       " 'Lugia',\n",
       " 'Ho-Oh',\n",
       " 'Kyogre',\n",
       " 'Groudon',\n",
       " 'Rayquaza',\n",
       " 'Dialga',\n",
       " 'Palkia',\n",
       " 'Giratina',\n",
       " 'Reshiram',\n",
       " 'Zekrom',\n",
       " 'Kyurem',\n",
       " 'Xerneas',\n",
       " 'Yveltal',\n",
       " 'Zygarde',\n",
       " 'Cosmog',\n",
       " 'Cosmoem',\n",
       " 'Solgaleo',\n",
       " 'Lunala',\n",
       " 'Necrozma',\n",
       " 'Zacian',\n",
       " 'Zamazenta',\n",
       " 'Eternatus',\n",
       " 'Calyrex',\n",
       " 'Koraidon',\n",
       " 'Miraidon']"
      ]
     },
     "execution_count": 150,
     "metadata": {},
     "output_type": "execute_result"
    }
   ],
   "source": [
    "legendary_list = []\n",
    "for i in range(0, len(legendary)):\n",
    "    pokemon_info = legendary[i].find_all('a')\n",
    "    name = pokemon_info[1].text\n",
    "    legendary_list.append(name)\n",
    "legendary_list"
   ]
  },
  {
   "cell_type": "code",
   "execution_count": 151,
   "id": "51232268",
   "metadata": {},
   "outputs": [],
   "source": [
    "mythical = tables[2].find_all('td', valign='top')"
   ]
  },
  {
   "cell_type": "code",
   "execution_count": 152,
   "id": "def60e0d",
   "metadata": {
    "scrolled": true
   },
   "outputs": [
    {
     "data": {
      "text/plain": [
       "['Mew',\n",
       " 'Celebi',\n",
       " 'Jirachi',\n",
       " 'Deoxys',\n",
       " 'Phione',\n",
       " 'Manaphy',\n",
       " 'Darkrai',\n",
       " 'Shaymin',\n",
       " 'Arceus',\n",
       " 'Victini',\n",
       " 'Keldeo',\n",
       " 'Meloetta',\n",
       " 'Genesect',\n",
       " 'Diancie',\n",
       " 'Hoopa',\n",
       " 'Volcanion',\n",
       " 'Magearna',\n",
       " 'Marshadow',\n",
       " 'Zeraora',\n",
       " 'Meltan',\n",
       " 'Melmetal',\n",
       " 'Zarude']"
      ]
     },
     "execution_count": 152,
     "metadata": {},
     "output_type": "execute_result"
    }
   ],
   "source": [
    "mythical_list = []\n",
    "for i in range(0, len(mythical)):\n",
    "    pokemon_info = mythical[i].find_all('a')\n",
    "    name = pokemon_info[1].text\n",
    "    mythical_list.append(name)\n",
    "mythical_list"
   ]
  },
  {
   "cell_type": "markdown",
   "id": "0c3a512c",
   "metadata": {},
   "source": [
    "# Create Dataframe"
   ]
  },
  {
   "cell_type": "code",
   "execution_count": 154,
   "id": "8e862f5b",
   "metadata": {
    "scrolled": true
   },
   "outputs": [
    {
     "data": {
      "text/plain": [
       "[('Mewtwo', 'Legendary'),\n",
       " ('Lugia', 'Legendary'),\n",
       " ('Ho-Oh', 'Legendary'),\n",
       " ('Kyogre', 'Legendary'),\n",
       " ('Groudon', 'Legendary'),\n",
       " ('Rayquaza', 'Legendary'),\n",
       " ('Dialga', 'Legendary'),\n",
       " ('Palkia', 'Legendary'),\n",
       " ('Giratina', 'Legendary'),\n",
       " ('Reshiram', 'Legendary'),\n",
       " ('Zekrom', 'Legendary'),\n",
       " ('Kyurem', 'Legendary'),\n",
       " ('Xerneas', 'Legendary'),\n",
       " ('Yveltal', 'Legendary'),\n",
       " ('Zygarde', 'Legendary'),\n",
       " ('Cosmog', 'Legendary'),\n",
       " ('Cosmoem', 'Legendary'),\n",
       " ('Solgaleo', 'Legendary'),\n",
       " ('Lunala', 'Legendary'),\n",
       " ('Necrozma', 'Legendary'),\n",
       " ('Zacian', 'Legendary'),\n",
       " ('Zamazenta', 'Legendary'),\n",
       " ('Eternatus', 'Legendary'),\n",
       " ('Calyrex', 'Legendary'),\n",
       " ('Koraidon', 'Legendary'),\n",
       " ('Miraidon', 'Legendary'),\n",
       " ('Mew', 'Mythical'),\n",
       " ('Celebi', 'Mythical'),\n",
       " ('Jirachi', 'Mythical'),\n",
       " ('Deoxys', 'Mythical'),\n",
       " ('Phione', 'Mythical'),\n",
       " ('Manaphy', 'Mythical'),\n",
       " ('Darkrai', 'Mythical'),\n",
       " ('Shaymin', 'Mythical'),\n",
       " ('Arceus', 'Mythical'),\n",
       " ('Victini', 'Mythical'),\n",
       " ('Keldeo', 'Mythical'),\n",
       " ('Meloetta', 'Mythical'),\n",
       " ('Genesect', 'Mythical'),\n",
       " ('Diancie', 'Mythical'),\n",
       " ('Hoopa', 'Mythical'),\n",
       " ('Volcanion', 'Mythical'),\n",
       " ('Magearna', 'Mythical'),\n",
       " ('Marshadow', 'Mythical'),\n",
       " ('Zeraora', 'Mythical'),\n",
       " ('Meltan', 'Mythical'),\n",
       " ('Melmetal', 'Mythical'),\n",
       " ('Zarude', 'Mythical')]"
      ]
     },
     "execution_count": 154,
     "metadata": {},
     "output_type": "execute_result"
    }
   ],
   "source": [
    "combined_list = [(legendary, 'Legendary') for legendary in legendary_list] + [(mythical, 'Mythical') for mythical in mythical_list]\n",
    "combined_list"
   ]
  },
  {
   "cell_type": "markdown",
   "id": "0243c2b0",
   "metadata": {},
   "source": [
    "# Export Dataframe"
   ]
  },
  {
   "cell_type": "code",
   "execution_count": 155,
   "id": "f3436a67",
   "metadata": {
    "scrolled": true
   },
   "outputs": [
    {
     "data": {
      "text/html": [
       "<div>\n",
       "<style scoped>\n",
       "    .dataframe tbody tr th:only-of-type {\n",
       "        vertical-align: middle;\n",
       "    }\n",
       "\n",
       "    .dataframe tbody tr th {\n",
       "        vertical-align: top;\n",
       "    }\n",
       "\n",
       "    .dataframe thead th {\n",
       "        text-align: right;\n",
       "    }\n",
       "</style>\n",
       "<table border=\"1\" class=\"dataframe\">\n",
       "  <thead>\n",
       "    <tr style=\"text-align: right;\">\n",
       "      <th></th>\n",
       "      <th>Pokemon</th>\n",
       "      <th>Legendary/Mythical</th>\n",
       "    </tr>\n",
       "  </thead>\n",
       "  <tbody>\n",
       "    <tr>\n",
       "      <th>0</th>\n",
       "      <td>Mewtwo</td>\n",
       "      <td>Legendary</td>\n",
       "    </tr>\n",
       "    <tr>\n",
       "      <th>1</th>\n",
       "      <td>Lugia</td>\n",
       "      <td>Legendary</td>\n",
       "    </tr>\n",
       "    <tr>\n",
       "      <th>2</th>\n",
       "      <td>Ho-Oh</td>\n",
       "      <td>Legendary</td>\n",
       "    </tr>\n",
       "    <tr>\n",
       "      <th>3</th>\n",
       "      <td>Kyogre</td>\n",
       "      <td>Legendary</td>\n",
       "    </tr>\n",
       "    <tr>\n",
       "      <th>4</th>\n",
       "      <td>Groudon</td>\n",
       "      <td>Legendary</td>\n",
       "    </tr>\n",
       "    <tr>\n",
       "      <th>5</th>\n",
       "      <td>Rayquaza</td>\n",
       "      <td>Legendary</td>\n",
       "    </tr>\n",
       "    <tr>\n",
       "      <th>6</th>\n",
       "      <td>Dialga</td>\n",
       "      <td>Legendary</td>\n",
       "    </tr>\n",
       "    <tr>\n",
       "      <th>7</th>\n",
       "      <td>Palkia</td>\n",
       "      <td>Legendary</td>\n",
       "    </tr>\n",
       "    <tr>\n",
       "      <th>8</th>\n",
       "      <td>Giratina</td>\n",
       "      <td>Legendary</td>\n",
       "    </tr>\n",
       "    <tr>\n",
       "      <th>9</th>\n",
       "      <td>Reshiram</td>\n",
       "      <td>Legendary</td>\n",
       "    </tr>\n",
       "    <tr>\n",
       "      <th>10</th>\n",
       "      <td>Zekrom</td>\n",
       "      <td>Legendary</td>\n",
       "    </tr>\n",
       "    <tr>\n",
       "      <th>11</th>\n",
       "      <td>Kyurem</td>\n",
       "      <td>Legendary</td>\n",
       "    </tr>\n",
       "    <tr>\n",
       "      <th>12</th>\n",
       "      <td>Xerneas</td>\n",
       "      <td>Legendary</td>\n",
       "    </tr>\n",
       "    <tr>\n",
       "      <th>13</th>\n",
       "      <td>Yveltal</td>\n",
       "      <td>Legendary</td>\n",
       "    </tr>\n",
       "    <tr>\n",
       "      <th>14</th>\n",
       "      <td>Zygarde</td>\n",
       "      <td>Legendary</td>\n",
       "    </tr>\n",
       "    <tr>\n",
       "      <th>15</th>\n",
       "      <td>Cosmog</td>\n",
       "      <td>Legendary</td>\n",
       "    </tr>\n",
       "    <tr>\n",
       "      <th>16</th>\n",
       "      <td>Cosmoem</td>\n",
       "      <td>Legendary</td>\n",
       "    </tr>\n",
       "    <tr>\n",
       "      <th>17</th>\n",
       "      <td>Solgaleo</td>\n",
       "      <td>Legendary</td>\n",
       "    </tr>\n",
       "    <tr>\n",
       "      <th>18</th>\n",
       "      <td>Lunala</td>\n",
       "      <td>Legendary</td>\n",
       "    </tr>\n",
       "    <tr>\n",
       "      <th>19</th>\n",
       "      <td>Necrozma</td>\n",
       "      <td>Legendary</td>\n",
       "    </tr>\n",
       "    <tr>\n",
       "      <th>20</th>\n",
       "      <td>Zacian</td>\n",
       "      <td>Legendary</td>\n",
       "    </tr>\n",
       "    <tr>\n",
       "      <th>21</th>\n",
       "      <td>Zamazenta</td>\n",
       "      <td>Legendary</td>\n",
       "    </tr>\n",
       "    <tr>\n",
       "      <th>22</th>\n",
       "      <td>Eternatus</td>\n",
       "      <td>Legendary</td>\n",
       "    </tr>\n",
       "    <tr>\n",
       "      <th>23</th>\n",
       "      <td>Calyrex</td>\n",
       "      <td>Legendary</td>\n",
       "    </tr>\n",
       "    <tr>\n",
       "      <th>24</th>\n",
       "      <td>Koraidon</td>\n",
       "      <td>Legendary</td>\n",
       "    </tr>\n",
       "    <tr>\n",
       "      <th>25</th>\n",
       "      <td>Miraidon</td>\n",
       "      <td>Legendary</td>\n",
       "    </tr>\n",
       "    <tr>\n",
       "      <th>26</th>\n",
       "      <td>Mew</td>\n",
       "      <td>Mythical</td>\n",
       "    </tr>\n",
       "    <tr>\n",
       "      <th>27</th>\n",
       "      <td>Celebi</td>\n",
       "      <td>Mythical</td>\n",
       "    </tr>\n",
       "    <tr>\n",
       "      <th>28</th>\n",
       "      <td>Jirachi</td>\n",
       "      <td>Mythical</td>\n",
       "    </tr>\n",
       "    <tr>\n",
       "      <th>29</th>\n",
       "      <td>Deoxys</td>\n",
       "      <td>Mythical</td>\n",
       "    </tr>\n",
       "    <tr>\n",
       "      <th>30</th>\n",
       "      <td>Phione</td>\n",
       "      <td>Mythical</td>\n",
       "    </tr>\n",
       "    <tr>\n",
       "      <th>31</th>\n",
       "      <td>Manaphy</td>\n",
       "      <td>Mythical</td>\n",
       "    </tr>\n",
       "    <tr>\n",
       "      <th>32</th>\n",
       "      <td>Darkrai</td>\n",
       "      <td>Mythical</td>\n",
       "    </tr>\n",
       "    <tr>\n",
       "      <th>33</th>\n",
       "      <td>Shaymin</td>\n",
       "      <td>Mythical</td>\n",
       "    </tr>\n",
       "    <tr>\n",
       "      <th>34</th>\n",
       "      <td>Arceus</td>\n",
       "      <td>Mythical</td>\n",
       "    </tr>\n",
       "    <tr>\n",
       "      <th>35</th>\n",
       "      <td>Victini</td>\n",
       "      <td>Mythical</td>\n",
       "    </tr>\n",
       "    <tr>\n",
       "      <th>36</th>\n",
       "      <td>Keldeo</td>\n",
       "      <td>Mythical</td>\n",
       "    </tr>\n",
       "    <tr>\n",
       "      <th>37</th>\n",
       "      <td>Meloetta</td>\n",
       "      <td>Mythical</td>\n",
       "    </tr>\n",
       "    <tr>\n",
       "      <th>38</th>\n",
       "      <td>Genesect</td>\n",
       "      <td>Mythical</td>\n",
       "    </tr>\n",
       "    <tr>\n",
       "      <th>39</th>\n",
       "      <td>Diancie</td>\n",
       "      <td>Mythical</td>\n",
       "    </tr>\n",
       "    <tr>\n",
       "      <th>40</th>\n",
       "      <td>Hoopa</td>\n",
       "      <td>Mythical</td>\n",
       "    </tr>\n",
       "    <tr>\n",
       "      <th>41</th>\n",
       "      <td>Volcanion</td>\n",
       "      <td>Mythical</td>\n",
       "    </tr>\n",
       "    <tr>\n",
       "      <th>42</th>\n",
       "      <td>Magearna</td>\n",
       "      <td>Mythical</td>\n",
       "    </tr>\n",
       "    <tr>\n",
       "      <th>43</th>\n",
       "      <td>Marshadow</td>\n",
       "      <td>Mythical</td>\n",
       "    </tr>\n",
       "    <tr>\n",
       "      <th>44</th>\n",
       "      <td>Zeraora</td>\n",
       "      <td>Mythical</td>\n",
       "    </tr>\n",
       "    <tr>\n",
       "      <th>45</th>\n",
       "      <td>Meltan</td>\n",
       "      <td>Mythical</td>\n",
       "    </tr>\n",
       "    <tr>\n",
       "      <th>46</th>\n",
       "      <td>Melmetal</td>\n",
       "      <td>Mythical</td>\n",
       "    </tr>\n",
       "    <tr>\n",
       "      <th>47</th>\n",
       "      <td>Zarude</td>\n",
       "      <td>Mythical</td>\n",
       "    </tr>\n",
       "  </tbody>\n",
       "</table>\n",
       "</div>"
      ],
      "text/plain": [
       "      Pokemon Legendary/Mythical\n",
       "0      Mewtwo          Legendary\n",
       "1       Lugia          Legendary\n",
       "2       Ho-Oh          Legendary\n",
       "3      Kyogre          Legendary\n",
       "4     Groudon          Legendary\n",
       "5    Rayquaza          Legendary\n",
       "6      Dialga          Legendary\n",
       "7      Palkia          Legendary\n",
       "8    Giratina          Legendary\n",
       "9    Reshiram          Legendary\n",
       "10     Zekrom          Legendary\n",
       "11     Kyurem          Legendary\n",
       "12    Xerneas          Legendary\n",
       "13    Yveltal          Legendary\n",
       "14    Zygarde          Legendary\n",
       "15     Cosmog          Legendary\n",
       "16    Cosmoem          Legendary\n",
       "17   Solgaleo          Legendary\n",
       "18     Lunala          Legendary\n",
       "19   Necrozma          Legendary\n",
       "20     Zacian          Legendary\n",
       "21  Zamazenta          Legendary\n",
       "22  Eternatus          Legendary\n",
       "23    Calyrex          Legendary\n",
       "24   Koraidon          Legendary\n",
       "25   Miraidon          Legendary\n",
       "26        Mew           Mythical\n",
       "27     Celebi           Mythical\n",
       "28    Jirachi           Mythical\n",
       "29     Deoxys           Mythical\n",
       "30     Phione           Mythical\n",
       "31    Manaphy           Mythical\n",
       "32    Darkrai           Mythical\n",
       "33    Shaymin           Mythical\n",
       "34     Arceus           Mythical\n",
       "35    Victini           Mythical\n",
       "36     Keldeo           Mythical\n",
       "37   Meloetta           Mythical\n",
       "38   Genesect           Mythical\n",
       "39    Diancie           Mythical\n",
       "40      Hoopa           Mythical\n",
       "41  Volcanion           Mythical\n",
       "42   Magearna           Mythical\n",
       "43  Marshadow           Mythical\n",
       "44    Zeraora           Mythical\n",
       "45     Meltan           Mythical\n",
       "46   Melmetal           Mythical\n",
       "47     Zarude           Mythical"
      ]
     },
     "execution_count": 155,
     "metadata": {},
     "output_type": "execute_result"
    }
   ],
   "source": [
    "df2 = pd.DataFrame(combined_list, columns=['Pokemon', 'Legendary/Mythical'])\n",
    "df2"
   ]
  },
  {
   "cell_type": "code",
   "execution_count": 156,
   "id": "c2245947",
   "metadata": {},
   "outputs": [],
   "source": [
    "df2.to_csv('Datasets/Legendary_Mythical_List.csv', index=False)"
   ]
  }
 ],
 "metadata": {
  "kernelspec": {
   "display_name": "Python 3 (ipykernel)",
   "language": "python",
   "name": "python3"
  },
  "language_info": {
   "codemirror_mode": {
    "name": "ipython",
    "version": 3
   },
   "file_extension": ".py",
   "mimetype": "text/x-python",
   "name": "python",
   "nbconvert_exporter": "python",
   "pygments_lexer": "ipython3",
   "version": "3.9.13"
  }
 },
 "nbformat": 4,
 "nbformat_minor": 5
}
