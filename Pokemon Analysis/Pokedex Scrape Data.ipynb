{
 "cells": [
  {
   "cell_type": "markdown",
   "id": "2a0be1cd",
   "metadata": {},
   "source": [
    "# Scraping Data from Pokédex"
   ]
  },
  {
   "cell_type": "code",
   "execution_count": 1,
   "id": "c00b593d",
   "metadata": {
    "scrolled": false
   },
   "outputs": [
    {
     "data": {
      "text/plain": [
       "'https://pokemondb.net/pokedex/national'"
      ]
     },
     "execution_count": 1,
     "metadata": {},
     "output_type": "execute_result"
    }
   ],
   "source": [
    "\"https://pokemondb.net/pokedex/national\" #main page for Pokémon Pokédex"
   ]
  },
  {
   "cell_type": "code",
   "execution_count": 2,
   "id": "d5ad4ba8",
   "metadata": {},
   "outputs": [],
   "source": [
    "from bs4 import BeautifulSoup\n",
    "import requests"
   ]
  },
  {
   "cell_type": "markdown",
   "id": "5962793d",
   "metadata": {},
   "source": [
    "- get links for each pokemon from the main page\n",
    "- check if pokemon has other forms (deoxys has attack, defense, speed. Some has mega evolution. Some have Galarian forms\n",
    "- scrape pokedex data, training, breeding, base stats, type defenses, evolution chart"
   ]
  },
  {
   "cell_type": "code",
   "execution_count": 3,
   "id": "e5d3640a",
   "metadata": {},
   "outputs": [],
   "source": [
    "main_page = 'https://pokemondb.net/pokedex/national'\n",
    "base_page = 'https://pokemondb.net'"
   ]
  },
  {
   "cell_type": "code",
   "execution_count": 4,
   "id": "9ff620b9",
   "metadata": {},
   "outputs": [],
   "source": [
    "main_soup = BeautifulSoup(requests.get(main_page).text, 'lxml')"
   ]
  },
  {
   "cell_type": "code",
   "execution_count": 5,
   "id": "9f4e66a1",
   "metadata": {},
   "outputs": [],
   "source": [
    "#print(main_soup.prettify())"
   ]
  },
  {
   "cell_type": "markdown",
   "id": "23edb58c",
   "metadata": {},
   "source": [
    "## Collecting all href values of each Pokémon"
   ]
  },
  {
   "cell_type": "markdown",
   "id": "3fe4815f",
   "metadata": {},
   "source": [
    "Links for each pokemon's individual stats under class='ent-name'"
   ]
  },
  {
   "cell_type": "code",
   "execution_count": 6,
   "id": "26c8b929",
   "metadata": {},
   "outputs": [],
   "source": [
    "href_list = []"
   ]
  },
  {
   "cell_type": "code",
   "execution_count": 7,
   "id": "1a63c0db",
   "metadata": {},
   "outputs": [],
   "source": [
    "for link in main_soup.find_all(class_='ent-name',href=True):\n",
    "    href_list.append(link['href'])"
   ]
  },
  {
   "cell_type": "code",
   "execution_count": 8,
   "id": "7c198476",
   "metadata": {},
   "outputs": [
    {
     "data": {
      "text/plain": [
       "1010"
      ]
     },
     "execution_count": 8,
     "metadata": {},
     "output_type": "execute_result"
    }
   ],
   "source": [
    "#Checking that matches with total number of pokemon (1010)\n",
    "len(href_list)"
   ]
  },
  {
   "cell_type": "markdown",
   "id": "8dda835e",
   "metadata": {},
   "source": [
    "Using the first pokemon page, get all the headings to data that will be collected to for dataframe titles"
   ]
  },
  {
   "cell_type": "code",
   "execution_count": 9,
   "id": "e61678b7",
   "metadata": {},
   "outputs": [
    {
     "data": {
      "text/plain": [
       "'https://pokemondb.net/pokedex/bulbasaur'"
      ]
     },
     "execution_count": 9,
     "metadata": {},
     "output_type": "execute_result"
    }
   ],
   "source": [
    "pokemon_page = base_page + href_list[0]\n",
    "pokemon_page"
   ]
  },
  {
   "cell_type": "code",
   "execution_count": 10,
   "id": "27ff5cb7",
   "metadata": {},
   "outputs": [],
   "source": [
    "pokemon_soup = BeautifulSoup(requests.get(pokemon_page).text, 'lxml')"
   ]
  },
  {
   "cell_type": "code",
   "execution_count": 11,
   "id": "948b9093",
   "metadata": {
    "scrolled": true
   },
   "outputs": [
    {
     "data": {
      "text/plain": [
       "[<h2>Pokédex data</h2>,\n",
       " <h2>Training</h2>,\n",
       " <h2>Breeding</h2>,\n",
       " <h2>Base stats</h2>,\n",
       " <h2>Type defenses</h2>,\n",
       " <h2>Evolution chart</h2>,\n",
       " <h2>Bulbasaur changes</h2>,\n",
       " <h2>Pokédex entries</h2>,\n",
       " <h2>Moves learned by Bulbasaur</h2>,\n",
       " <h2>Bulbasaur sprites</h2>,\n",
       " <h2>Where to find Bulbasaur</h2>,\n",
       " <h2>Answers to Bulbasaur questions</h2>,\n",
       " <h2>Other languages</h2>,\n",
       " <h2> </h2>,\n",
       " <h2><a href=\"/etymology\">Name origin</a></h2>]"
      ]
     },
     "execution_count": 11,
     "metadata": {},
     "output_type": "execute_result"
    }
   ],
   "source": [
    "headings = pokemon_soup.find_all('h2')\n",
    "headings"
   ]
  },
  {
   "cell_type": "code",
   "execution_count": 12,
   "id": "f4d2123c",
   "metadata": {},
   "outputs": [],
   "source": [
    "heading_titles = [title.text.strip() for title in headings ]"
   ]
  },
  {
   "cell_type": "code",
   "execution_count": 13,
   "id": "b3cdffc5",
   "metadata": {},
   "outputs": [
    {
     "data": {
      "text/plain": [
       "['Pokédex data',\n",
       " 'Training',\n",
       " 'Breeding',\n",
       " 'Base stats',\n",
       " 'Type defenses',\n",
       " 'Evolution chart',\n",
       " 'Bulbasaur changes',\n",
       " 'Pokédex entries',\n",
       " 'Moves learned by Bulbasaur',\n",
       " 'Bulbasaur sprites',\n",
       " 'Where to find Bulbasaur',\n",
       " 'Answers to Bulbasaur questions',\n",
       " 'Other languages',\n",
       " '',\n",
       " 'Name origin']"
      ]
     },
     "execution_count": 13,
     "metadata": {},
     "output_type": "execute_result"
    }
   ],
   "source": [
    "#Only using 'Pokédex data','Training','Breeding','Base stats','Type defenses','Evolution chart'\n",
    "heading_titles"
   ]
  },
  {
   "cell_type": "code",
   "execution_count": 14,
   "id": "4aa2a841",
   "metadata": {},
   "outputs": [
    {
     "data": {
      "text/plain": [
       "['Pokédex data', 'Training', 'Breeding', 'Base stats', 'Type defenses']"
      ]
     },
     "execution_count": 14,
     "metadata": {},
     "output_type": "execute_result"
    }
   ],
   "source": [
    "heading_titles = heading_titles[:5]\n",
    "heading_titles"
   ]
  },
  {
   "cell_type": "markdown",
   "id": "37da217b",
   "metadata": {},
   "source": [
    "### Sections below will be heading 2s under the titles just collected"
   ]
  },
  {
   "cell_type": "code",
   "execution_count": 15,
   "id": "f34978a6",
   "metadata": {},
   "outputs": [],
   "source": [
    "subtitles = []\n",
    "for i, titles in enumerate(heading_titles):\n",
    "    target_heading = pokemon_soup.find('h2', text=titles)\n",
    "    next_sibling = target_heading.find_next()\n",
    "    #next element names need to be table or div\n",
    "\n",
    "    while next_sibling.name != 'table' and next_sibling.name != 'div':\n",
    "        next_sibling = next_sibling.find_next()\n",
    "        \n",
    "    tags = next_sibling.find_all('th')\n",
    "    #if it has a title value, use that instead of just the text\n",
    "    set_text = []\n",
    "    for th in tags: \n",
    "        a_tag = th.find('a', title=True)\n",
    "        if a_tag:\n",
    "            set_text.append(a_tag['title'])\n",
    "        else:\n",
    "            set_text.append(th.get_text())\n",
    "    subtitles.append(set_text)"
   ]
  },
  {
   "cell_type": "code",
   "execution_count": 16,
   "id": "ea2f8bbc",
   "metadata": {
    "scrolled": true
   },
   "outputs": [
    {
     "data": {
      "text/plain": [
       "[['National №', 'Type', 'Species', 'Height', 'Weight', 'Abilities', 'Local №'],\n",
       " ['EV yield', 'Catch rate', 'Base Friendship', 'Base Exp.', 'Growth Rate'],\n",
       " ['Egg Groups', 'Gender', 'Egg cycles'],\n",
       " ['HP',\n",
       "  'Attack',\n",
       "  'Defense',\n",
       "  'Sp. Atk',\n",
       "  'Sp. Def',\n",
       "  'Speed',\n",
       "  'Total',\n",
       "  '',\n",
       "  'Min',\n",
       "  'Max'],\n",
       " ['Normal',\n",
       "  'Fire',\n",
       "  'Water',\n",
       "  'Electric',\n",
       "  'Grass',\n",
       "  'Ice',\n",
       "  'Fighting',\n",
       "  'Poison',\n",
       "  'Ground',\n",
       "  'Flying',\n",
       "  'Psychic',\n",
       "  'Bug',\n",
       "  'Rock',\n",
       "  'Ghost',\n",
       "  'Dragon',\n",
       "  'Dark',\n",
       "  'Steel',\n",
       "  'Fairy']]"
      ]
     },
     "execution_count": 16,
     "metadata": {},
     "output_type": "execute_result"
    }
   ],
   "source": [
    "subtitles"
   ]
  },
  {
   "cell_type": "code",
   "execution_count": 17,
   "id": "a3b233f4",
   "metadata": {
    "scrolled": true
   },
   "outputs": [
    {
     "data": {
      "text/plain": [
       "['HP', 'Attack', 'Defense', 'Sp. Atk', 'Sp. Def', 'Speed', 'Total']"
      ]
     },
     "execution_count": 17,
     "metadata": {},
     "output_type": "execute_result"
    }
   ],
   "source": [
    "#removing the min and max at end \n",
    "del subtitles[3][7:]\n",
    "subtitles[3]"
   ]
  },
  {
   "cell_type": "code",
   "execution_count": 18,
   "id": "03a40cfa",
   "metadata": {
    "scrolled": false
   },
   "outputs": [],
   "source": [
    "#adding min and max stats after each stat\n",
    "base_stats_titles = []\n",
    "for i, title in enumerate(subtitles[3]):\n",
    "    base_stats_titles.append(title)\n",
    "    if(i<len(subtitles[3])-1):\n",
    "        base_stats_titles.append(\"Min \" + title)\n",
    "        base_stats_titles.append(\"Max \" + title)"
   ]
  },
  {
   "cell_type": "code",
   "execution_count": 19,
   "id": "e181f6ae",
   "metadata": {
    "scrolled": true
   },
   "outputs": [
    {
     "data": {
      "text/plain": [
       "[['National №', 'Type', 'Species', 'Height', 'Weight', 'Abilities', 'Local №'],\n",
       " ['EV yield', 'Catch rate', 'Base Friendship', 'Base Exp.', 'Growth Rate'],\n",
       " ['Egg Groups', 'Gender', 'Egg cycles'],\n",
       " ['HP',\n",
       "  'Min HP',\n",
       "  'Max HP',\n",
       "  'Attack',\n",
       "  'Min Attack',\n",
       "  'Max Attack',\n",
       "  'Defense',\n",
       "  'Min Defense',\n",
       "  'Max Defense',\n",
       "  'Sp. Atk',\n",
       "  'Min Sp. Atk',\n",
       "  'Max Sp. Atk',\n",
       "  'Sp. Def',\n",
       "  'Min Sp. Def',\n",
       "  'Max Sp. Def',\n",
       "  'Speed',\n",
       "  'Min Speed',\n",
       "  'Max Speed',\n",
       "  'Total'],\n",
       " ['Normal',\n",
       "  'Fire',\n",
       "  'Water',\n",
       "  'Electric',\n",
       "  'Grass',\n",
       "  'Ice',\n",
       "  'Fighting',\n",
       "  'Poison',\n",
       "  'Ground',\n",
       "  'Flying',\n",
       "  'Psychic',\n",
       "  'Bug',\n",
       "  'Rock',\n",
       "  'Ghost',\n",
       "  'Dragon',\n",
       "  'Dark',\n",
       "  'Steel',\n",
       "  'Fairy']]"
      ]
     },
     "execution_count": 19,
     "metadata": {},
     "output_type": "execute_result"
    }
   ],
   "source": [
    "subtitles[3]=base_stats_titles\n",
    "subtitles"
   ]
  },
  {
   "cell_type": "markdown",
   "id": "d6373847",
   "metadata": {},
   "source": [
    "creating empty dataframe with headings"
   ]
  },
  {
   "cell_type": "code",
   "execution_count": 20,
   "id": "6e81330a",
   "metadata": {},
   "outputs": [],
   "source": [
    "import pandas as pd"
   ]
  },
  {
   "cell_type": "code",
   "execution_count": 21,
   "id": "fd3edf7b",
   "metadata": {},
   "outputs": [],
   "source": [
    "col_names = ['Name', 'Image']\n",
    "for title in subtitles:\n",
    "    col_names.extend(title)"
   ]
  },
  {
   "cell_type": "code",
   "execution_count": 30,
   "id": "6fbd50ac",
   "metadata": {},
   "outputs": [
    {
     "data": {
      "text/html": [
       "<div>\n",
       "<style scoped>\n",
       "    .dataframe tbody tr th:only-of-type {\n",
       "        vertical-align: middle;\n",
       "    }\n",
       "\n",
       "    .dataframe tbody tr th {\n",
       "        vertical-align: top;\n",
       "    }\n",
       "\n",
       "    .dataframe thead th {\n",
       "        text-align: right;\n",
       "    }\n",
       "</style>\n",
       "<table border=\"1\" class=\"dataframe\">\n",
       "  <thead>\n",
       "    <tr style=\"text-align: right;\">\n",
       "      <th></th>\n",
       "      <th>Name</th>\n",
       "      <th>Image</th>\n",
       "      <th>National №</th>\n",
       "      <th>Type</th>\n",
       "      <th>Species</th>\n",
       "      <th>Height</th>\n",
       "      <th>Weight</th>\n",
       "      <th>Abilities</th>\n",
       "      <th>Local №</th>\n",
       "      <th>EV yield</th>\n",
       "      <th>...</th>\n",
       "      <th>Ground</th>\n",
       "      <th>Flying</th>\n",
       "      <th>Psychic</th>\n",
       "      <th>Bug</th>\n",
       "      <th>Rock</th>\n",
       "      <th>Ghost</th>\n",
       "      <th>Dragon</th>\n",
       "      <th>Dark</th>\n",
       "      <th>Steel</th>\n",
       "      <th>Fairy</th>\n",
       "    </tr>\n",
       "  </thead>\n",
       "  <tbody>\n",
       "  </tbody>\n",
       "</table>\n",
       "<p>0 rows × 54 columns</p>\n",
       "</div>"
      ],
      "text/plain": [
       "Empty DataFrame\n",
       "Columns: [Name, Image, National №, Type, Species, Height, Weight, Abilities, Local №, EV yield, Catch rate, Base Friendship, Base Exp., Growth Rate, Egg Groups, Gender, Egg cycles, HP, Min HP, Max HP, Attack, Min Attack, Max Attack, Defense, Min Defense, Max Defense, Sp. Atk, Min Sp. Atk, Max Sp. Atk, Sp. Def, Min Sp. Def, Max Sp. Def, Speed, Min Speed, Max Speed, Total, Normal, Fire, Water, Electric, Grass, Ice, Fighting, Poison, Ground, Flying, Psychic, Bug, Rock, Ghost, Dragon, Dark, Steel, Fairy]\n",
       "Index: []\n",
       "\n",
       "[0 rows x 54 columns]"
      ]
     },
     "execution_count": 30,
     "metadata": {},
     "output_type": "execute_result"
    }
   ],
   "source": [
    "df = pd.DataFrame(columns=col_names)\n",
    "df"
   ]
  },
  {
   "cell_type": "markdown",
   "id": "eb629f03",
   "metadata": {},
   "source": [
    "# Create Functions for each data section"
   ]
  },
  {
   "cell_type": "code",
   "execution_count": 23,
   "id": "744e6c9f",
   "metadata": {},
   "outputs": [],
   "source": [
    "#this function will take the soup and returns the names on the tabs for the pokemon\n",
    "def FindNames(soup):\n",
    "    names = soup.find(class_='sv-tabs-tab-list').text.strip().split('\\n')\n",
    "    return names"
   ]
  },
  {
   "cell_type": "code",
   "execution_count": 24,
   "id": "61b73242",
   "metadata": {},
   "outputs": [],
   "source": [
    "#this function will return the href for the image for the pokemon\n",
    "def FindImage(soup):\n",
    "    href = soup.find('img')['src']\n",
    "    return href"
   ]
  },
  {
   "cell_type": "code",
   "execution_count": 25,
   "id": "4c9545c6",
   "metadata": {},
   "outputs": [],
   "source": [
    "#This function will return the data from the pokedex, training, breeding, and base stats tables\n",
    "def TableData(table):\n",
    "    stats = [] \n",
    "    for i, data in enumerate(table):\n",
    "        if '\\n\\n' not in data.text:\n",
    "            stats.append(data.text.strip())\n",
    "    return stats"
   ]
  },
  {
   "cell_type": "code",
   "execution_count": 26,
   "id": "38ca7c53",
   "metadata": {},
   "outputs": [],
   "source": [
    "import re"
   ]
  },
  {
   "cell_type": "code",
   "execution_count": 27,
   "id": "d2c8cc20",
   "metadata": {},
   "outputs": [],
   "source": [
    "#This function will return the type defenses for the pokemon\n",
    "def TypeTable(table):\n",
    "    def_stats = [] \n",
    "    for i, data in enumerate(table):\n",
    "        text = str(data)\n",
    "        substring = \"fx-\"\n",
    "\n",
    "        # Find the index where the substring occurs\n",
    "        start_index = text.find(substring)\n",
    "\n",
    "        if start_index != -1:\n",
    "            # Extract the characters after the substring that are numbers\n",
    "            result = re.findall(r'\\d+', text[start_index + len(substring):])\n",
    "            def_stats.append(result[0])\n",
    "        else:\n",
    "            print(\"Substring not found\")\n",
    "    return def_stats"
   ]
  },
  {
   "cell_type": "markdown",
   "id": "8507f075",
   "metadata": {},
   "source": [
    "# Scrape Data"
   ]
  },
  {
   "cell_type": "markdown",
   "id": "947a94e6",
   "metadata": {},
   "source": [
    "- for loop for each pokemon href from main page\n",
    "- get list of names on tab\n",
    "- for loop for each tab\n",
    "    - get data for pokedex\n",
    "    - get data for training\n",
    "    - get data for breeding\n",
    "    - get data for base stats\n",
    "    - get data for defense types\n",
    "    - combine data and append on to dataframe"
   ]
  },
  {
   "cell_type": "code",
   "execution_count": 31,
   "id": "0ea538a7",
   "metadata": {},
   "outputs": [],
   "source": [
    "for i,href in enumerate(href_list):\n",
    "    pokemon_list = []\n",
    "    #if i >= 26:\n",
    "        #break\n",
    "    #Make soup \n",
    "    page = base_page + href\n",
    "    soup = BeautifulSoup(requests.get(page).text, 'lxml')\n",
    "    \n",
    "    #Get list of names on page tab\n",
    "    names = FindNames(soup)\n",
    "    \n",
    "    image = soup.find('div', class_='sv-tabs-panel')\n",
    "    \n",
    "    for j, name in enumerate(names):\n",
    "        pokemon = []\n",
    "        pokemon.append(name)\n",
    "        \n",
    "        #Get image url \n",
    "        if(j==0):\n",
    "            pokemon.append(FindImage(image))\n",
    "        else:\n",
    "            images = []\n",
    "            next_sib = image.find_next_siblings('div',limit = len(names))\n",
    "            images = FindImage(next_sib[j-1])\n",
    "            pokemon.append(images)\n",
    "            \n",
    "        #Get pokedex, training, breeding, and base stats data\n",
    "        tables = soup.find_all('table', class_='vitals-table')\n",
    "        for k,table in enumerate(tables):\n",
    "            if k >3:\n",
    "                break\n",
    "            pokemon.extend(TableData(table.find_all('td')))\n",
    "            \n",
    "        #Get defense types data\n",
    "        def_stats = soup.find('div', class_='resp-scroll text-center').find_all('td')\n",
    "        pokemon.extend(TypeTable(def_stats))\n",
    "        \n",
    "        #append on to df\n",
    "        pokemon_list.append(pokemon)\n",
    "        df.loc[len(df)] = pokemon"
   ]
  },
  {
   "cell_type": "code",
   "execution_count": 46,
   "id": "72188ece",
   "metadata": {},
   "outputs": [
    {
     "data": {
      "text/html": [
       "<div>\n",
       "<style scoped>\n",
       "    .dataframe tbody tr th:only-of-type {\n",
       "        vertical-align: middle;\n",
       "    }\n",
       "\n",
       "    .dataframe tbody tr th {\n",
       "        vertical-align: top;\n",
       "    }\n",
       "\n",
       "    .dataframe thead th {\n",
       "        text-align: right;\n",
       "    }\n",
       "</style>\n",
       "<table border=\"1\" class=\"dataframe\">\n",
       "  <thead>\n",
       "    <tr style=\"text-align: right;\">\n",
       "      <th></th>\n",
       "      <th>Name</th>\n",
       "      <th>Image</th>\n",
       "      <th>National №</th>\n",
       "      <th>Type</th>\n",
       "      <th>Species</th>\n",
       "      <th>Height</th>\n",
       "      <th>Weight</th>\n",
       "      <th>Abilities</th>\n",
       "      <th>Local №</th>\n",
       "      <th>EV yield</th>\n",
       "      <th>...</th>\n",
       "      <th>Ground</th>\n",
       "      <th>Flying</th>\n",
       "      <th>Psychic</th>\n",
       "      <th>Bug</th>\n",
       "      <th>Rock</th>\n",
       "      <th>Ghost</th>\n",
       "      <th>Dragon</th>\n",
       "      <th>Dark</th>\n",
       "      <th>Steel</th>\n",
       "      <th>Fairy</th>\n",
       "    </tr>\n",
       "  </thead>\n",
       "  <tbody>\n",
       "    <tr>\n",
       "      <th>0</th>\n",
       "      <td>Bulbasaur</td>\n",
       "      <td>https://img.pokemondb.net/artwork/bulbasaur.jpg</td>\n",
       "      <td>0001</td>\n",
       "      <td>Grass Poison</td>\n",
       "      <td>Seed Pokémon</td>\n",
       "      <td>0.7 m (2′04″)</td>\n",
       "      <td>6.9 kg (15.2 lbs)</td>\n",
       "      <td>1. OvergrowChlorophyll (hidden ability)</td>\n",
       "      <td>0001 (Red/Blue/Yellow)0226 (Gold/Silver/Crysta...</td>\n",
       "      <td>1 Sp. Atk</td>\n",
       "      <td>...</td>\n",
       "      <td>100</td>\n",
       "      <td>200</td>\n",
       "      <td>200</td>\n",
       "      <td>100</td>\n",
       "      <td>100</td>\n",
       "      <td>100</td>\n",
       "      <td>100</td>\n",
       "      <td>100</td>\n",
       "      <td>100</td>\n",
       "      <td>50</td>\n",
       "    </tr>\n",
       "    <tr>\n",
       "      <th>1</th>\n",
       "      <td>Ivysaur</td>\n",
       "      <td>https://img.pokemondb.net/artwork/ivysaur.jpg</td>\n",
       "      <td>0002</td>\n",
       "      <td>Grass Poison</td>\n",
       "      <td>Seed Pokémon</td>\n",
       "      <td>1.0 m (3′03″)</td>\n",
       "      <td>13.0 kg (28.7 lbs)</td>\n",
       "      <td>1. OvergrowChlorophyll (hidden ability)</td>\n",
       "      <td>0002 (Red/Blue/Yellow)0227 (Gold/Silver/Crysta...</td>\n",
       "      <td>1 Sp. Atk, 1 Sp. Def</td>\n",
       "      <td>...</td>\n",
       "      <td>100</td>\n",
       "      <td>200</td>\n",
       "      <td>200</td>\n",
       "      <td>100</td>\n",
       "      <td>100</td>\n",
       "      <td>100</td>\n",
       "      <td>100</td>\n",
       "      <td>100</td>\n",
       "      <td>100</td>\n",
       "      <td>50</td>\n",
       "    </tr>\n",
       "    <tr>\n",
       "      <th>2</th>\n",
       "      <td>Venusaur</td>\n",
       "      <td>https://img.pokemondb.net/artwork/venusaur.jpg</td>\n",
       "      <td>0003</td>\n",
       "      <td>Grass Poison</td>\n",
       "      <td>Seed Pokémon</td>\n",
       "      <td>2.0 m (6′07″)</td>\n",
       "      <td>100.0 kg (220.5 lbs)</td>\n",
       "      <td>1. OvergrowChlorophyll (hidden ability)</td>\n",
       "      <td>0003 (Red/Blue/Yellow)0228 (Gold/Silver/Crysta...</td>\n",
       "      <td>2 Sp. Atk, 1 Sp. Def</td>\n",
       "      <td>...</td>\n",
       "      <td>100</td>\n",
       "      <td>200</td>\n",
       "      <td>200</td>\n",
       "      <td>100</td>\n",
       "      <td>100</td>\n",
       "      <td>100</td>\n",
       "      <td>100</td>\n",
       "      <td>100</td>\n",
       "      <td>100</td>\n",
       "      <td>50</td>\n",
       "    </tr>\n",
       "    <tr>\n",
       "      <th>3</th>\n",
       "      <td>Mega Venusaur</td>\n",
       "      <td>https://img.pokemondb.net/artwork/venusaur-meg...</td>\n",
       "      <td>0003</td>\n",
       "      <td>Grass Poison</td>\n",
       "      <td>Seed Pokémon</td>\n",
       "      <td>2.0 m (6′07″)</td>\n",
       "      <td>100.0 kg (220.5 lbs)</td>\n",
       "      <td>1. OvergrowChlorophyll (hidden ability)</td>\n",
       "      <td>0003 (Red/Blue/Yellow)0228 (Gold/Silver/Crysta...</td>\n",
       "      <td>2 Sp. Atk, 1 Sp. Def</td>\n",
       "      <td>...</td>\n",
       "      <td>100</td>\n",
       "      <td>200</td>\n",
       "      <td>200</td>\n",
       "      <td>100</td>\n",
       "      <td>100</td>\n",
       "      <td>100</td>\n",
       "      <td>100</td>\n",
       "      <td>100</td>\n",
       "      <td>100</td>\n",
       "      <td>50</td>\n",
       "    </tr>\n",
       "    <tr>\n",
       "      <th>4</th>\n",
       "      <td>Charmander</td>\n",
       "      <td>https://img.pokemondb.net/artwork/charmander.jpg</td>\n",
       "      <td>0004</td>\n",
       "      <td>Fire</td>\n",
       "      <td>Lizard Pokémon</td>\n",
       "      <td>0.6 m (2′00″)</td>\n",
       "      <td>8.5 kg (18.7 lbs)</td>\n",
       "      <td>1. BlazeSolar Power (hidden ability)</td>\n",
       "      <td>0004 (Red/Blue/Yellow)0229 (Gold/Silver/Crysta...</td>\n",
       "      <td>1 Speed</td>\n",
       "      <td>...</td>\n",
       "      <td>200</td>\n",
       "      <td>100</td>\n",
       "      <td>100</td>\n",
       "      <td>50</td>\n",
       "      <td>200</td>\n",
       "      <td>100</td>\n",
       "      <td>100</td>\n",
       "      <td>100</td>\n",
       "      <td>50</td>\n",
       "      <td>50</td>\n",
       "    </tr>\n",
       "    <tr>\n",
       "      <th>...</th>\n",
       "      <td>...</td>\n",
       "      <td>...</td>\n",
       "      <td>...</td>\n",
       "      <td>...</td>\n",
       "      <td>...</td>\n",
       "      <td>...</td>\n",
       "      <td>...</td>\n",
       "      <td>...</td>\n",
       "      <td>...</td>\n",
       "      <td>...</td>\n",
       "      <td>...</td>\n",
       "      <td>...</td>\n",
       "      <td>...</td>\n",
       "      <td>...</td>\n",
       "      <td>...</td>\n",
       "      <td>...</td>\n",
       "      <td>...</td>\n",
       "      <td>...</td>\n",
       "      <td>...</td>\n",
       "      <td>...</td>\n",
       "      <td>...</td>\n",
       "    </tr>\n",
       "    <tr>\n",
       "      <th>1189</th>\n",
       "      <td>Iron Valiant</td>\n",
       "      <td>https://img.pokemondb.net/artwork/iron-valiant...</td>\n",
       "      <td>1006</td>\n",
       "      <td>Fairy Fighting</td>\n",
       "      <td>Paradox Pokémon</td>\n",
       "      <td>1.4 m (4′07″)</td>\n",
       "      <td>35.0 kg (77.2 lbs)</td>\n",
       "      <td>1. Quark Drive</td>\n",
       "      <td>0398 (Scarlet/Violet)</td>\n",
       "      <td>3 Attack</td>\n",
       "      <td>...</td>\n",
       "      <td>100</td>\n",
       "      <td>200</td>\n",
       "      <td>200</td>\n",
       "      <td>25</td>\n",
       "      <td>50</td>\n",
       "      <td>100</td>\n",
       "      <td>0</td>\n",
       "      <td>25</td>\n",
       "      <td>200</td>\n",
       "      <td>200</td>\n",
       "    </tr>\n",
       "    <tr>\n",
       "      <th>1190</th>\n",
       "      <td>Koraidon</td>\n",
       "      <td>https://img.pokemondb.net/artwork/koraidon.jpg</td>\n",
       "      <td>1007</td>\n",
       "      <td>Fighting Dragon</td>\n",
       "      <td>Paradox Pokémon</td>\n",
       "      <td>2.5 m (8′02″)</td>\n",
       "      <td>303.0 kg (668.0 lbs)</td>\n",
       "      <td>1. Orichalcum Pulse</td>\n",
       "      <td>0399 (Scarlet/Violet)</td>\n",
       "      <td>3 Attack</td>\n",
       "      <td>...</td>\n",
       "      <td>100</td>\n",
       "      <td>200</td>\n",
       "      <td>200</td>\n",
       "      <td>50</td>\n",
       "      <td>50</td>\n",
       "      <td>100</td>\n",
       "      <td>200</td>\n",
       "      <td>50</td>\n",
       "      <td>100</td>\n",
       "      <td>400</td>\n",
       "    </tr>\n",
       "    <tr>\n",
       "      <th>1191</th>\n",
       "      <td>Miraidon</td>\n",
       "      <td>https://img.pokemondb.net/artwork/miraidon.jpg</td>\n",
       "      <td>1008</td>\n",
       "      <td>Electric Dragon</td>\n",
       "      <td>Paradox Pokémon</td>\n",
       "      <td>3.5 m (11′06″)</td>\n",
       "      <td>240.0 kg (529.1 lbs)</td>\n",
       "      <td>1. Hadron Engine</td>\n",
       "      <td>0400 (Scarlet/Violet)</td>\n",
       "      <td>3 Sp. Atk</td>\n",
       "      <td>...</td>\n",
       "      <td>200</td>\n",
       "      <td>50</td>\n",
       "      <td>100</td>\n",
       "      <td>100</td>\n",
       "      <td>100</td>\n",
       "      <td>100</td>\n",
       "      <td>200</td>\n",
       "      <td>100</td>\n",
       "      <td>50</td>\n",
       "      <td>200</td>\n",
       "    </tr>\n",
       "    <tr>\n",
       "      <th>1192</th>\n",
       "      <td>Walking Wake</td>\n",
       "      <td>https://img.pokemondb.net/artwork/walking-wake...</td>\n",
       "      <td>1009</td>\n",
       "      <td>Water Dragon</td>\n",
       "      <td>Paradox Pokémon</td>\n",
       "      <td>3.5 m (11′06″)</td>\n",
       "      <td>280.0 kg (617.3 lbs)</td>\n",
       "      <td>1. Protosynthesis</td>\n",
       "      <td>—</td>\n",
       "      <td>—</td>\n",
       "      <td>...</td>\n",
       "      <td>100</td>\n",
       "      <td>100</td>\n",
       "      <td>100</td>\n",
       "      <td>100</td>\n",
       "      <td>100</td>\n",
       "      <td>100</td>\n",
       "      <td>200</td>\n",
       "      <td>100</td>\n",
       "      <td>50</td>\n",
       "      <td>200</td>\n",
       "    </tr>\n",
       "    <tr>\n",
       "      <th>1193</th>\n",
       "      <td>Iron Leaves</td>\n",
       "      <td>https://img.pokemondb.net/artwork/iron-leaves.jpg</td>\n",
       "      <td>1010</td>\n",
       "      <td>Grass Psychic</td>\n",
       "      <td>Paradox Pokémon</td>\n",
       "      <td>1.5 m (4′11″)</td>\n",
       "      <td>125.0 kg (275.6 lbs)</td>\n",
       "      <td>1. Quark Drive</td>\n",
       "      <td>—</td>\n",
       "      <td>—</td>\n",
       "      <td>...</td>\n",
       "      <td>50</td>\n",
       "      <td>200</td>\n",
       "      <td>50</td>\n",
       "      <td>400</td>\n",
       "      <td>100</td>\n",
       "      <td>200</td>\n",
       "      <td>100</td>\n",
       "      <td>200</td>\n",
       "      <td>100</td>\n",
       "      <td>100</td>\n",
       "    </tr>\n",
       "  </tbody>\n",
       "</table>\n",
       "<p>1194 rows × 54 columns</p>\n",
       "</div>"
      ],
      "text/plain": [
       "               Name                                              Image  \\\n",
       "0         Bulbasaur    https://img.pokemondb.net/artwork/bulbasaur.jpg   \n",
       "1           Ivysaur      https://img.pokemondb.net/artwork/ivysaur.jpg   \n",
       "2          Venusaur     https://img.pokemondb.net/artwork/venusaur.jpg   \n",
       "3     Mega Venusaur  https://img.pokemondb.net/artwork/venusaur-meg...   \n",
       "4        Charmander   https://img.pokemondb.net/artwork/charmander.jpg   \n",
       "...             ...                                                ...   \n",
       "1189   Iron Valiant  https://img.pokemondb.net/artwork/iron-valiant...   \n",
       "1190       Koraidon     https://img.pokemondb.net/artwork/koraidon.jpg   \n",
       "1191       Miraidon     https://img.pokemondb.net/artwork/miraidon.jpg   \n",
       "1192   Walking Wake  https://img.pokemondb.net/artwork/walking-wake...   \n",
       "1193    Iron Leaves  https://img.pokemondb.net/artwork/iron-leaves.jpg   \n",
       "\n",
       "     National №             Type          Species          Height  \\\n",
       "0          0001     Grass Poison     Seed Pokémon   0.7 m (2′04″)   \n",
       "1          0002     Grass Poison     Seed Pokémon   1.0 m (3′03″)   \n",
       "2          0003     Grass Poison     Seed Pokémon   2.0 m (6′07″)   \n",
       "3          0003     Grass Poison     Seed Pokémon   2.0 m (6′07″)   \n",
       "4          0004             Fire   Lizard Pokémon   0.6 m (2′00″)   \n",
       "...         ...              ...              ...             ...   \n",
       "1189       1006   Fairy Fighting  Paradox Pokémon   1.4 m (4′07″)   \n",
       "1190       1007  Fighting Dragon  Paradox Pokémon   2.5 m (8′02″)   \n",
       "1191       1008  Electric Dragon  Paradox Pokémon  3.5 m (11′06″)   \n",
       "1192       1009     Water Dragon  Paradox Pokémon  3.5 m (11′06″)   \n",
       "1193       1010    Grass Psychic  Paradox Pokémon   1.5 m (4′11″)   \n",
       "\n",
       "                    Weight                                Abilities  \\\n",
       "0        6.9 kg (15.2 lbs)  1. OvergrowChlorophyll (hidden ability)   \n",
       "1       13.0 kg (28.7 lbs)  1. OvergrowChlorophyll (hidden ability)   \n",
       "2     100.0 kg (220.5 lbs)  1. OvergrowChlorophyll (hidden ability)   \n",
       "3     100.0 kg (220.5 lbs)  1. OvergrowChlorophyll (hidden ability)   \n",
       "4        8.5 kg (18.7 lbs)     1. BlazeSolar Power (hidden ability)   \n",
       "...                    ...                                      ...   \n",
       "1189    35.0 kg (77.2 lbs)                           1. Quark Drive   \n",
       "1190  303.0 kg (668.0 lbs)                      1. Orichalcum Pulse   \n",
       "1191  240.0 kg (529.1 lbs)                         1. Hadron Engine   \n",
       "1192  280.0 kg (617.3 lbs)                        1. Protosynthesis   \n",
       "1193  125.0 kg (275.6 lbs)                           1. Quark Drive   \n",
       "\n",
       "                                                Local №              EV yield  \\\n",
       "0     0001 (Red/Blue/Yellow)0226 (Gold/Silver/Crysta...             1 Sp. Atk   \n",
       "1     0002 (Red/Blue/Yellow)0227 (Gold/Silver/Crysta...  1 Sp. Atk, 1 Sp. Def   \n",
       "2     0003 (Red/Blue/Yellow)0228 (Gold/Silver/Crysta...  2 Sp. Atk, 1 Sp. Def   \n",
       "3     0003 (Red/Blue/Yellow)0228 (Gold/Silver/Crysta...  2 Sp. Atk, 1 Sp. Def   \n",
       "4     0004 (Red/Blue/Yellow)0229 (Gold/Silver/Crysta...               1 Speed   \n",
       "...                                                 ...                   ...   \n",
       "1189                              0398 (Scarlet/Violet)              3 Attack   \n",
       "1190                              0399 (Scarlet/Violet)              3 Attack   \n",
       "1191                              0400 (Scarlet/Violet)             3 Sp. Atk   \n",
       "1192                                                  —                     —   \n",
       "1193                                                  —                     —   \n",
       "\n",
       "      ... Ground Flying Psychic  Bug Rock Ghost Dragon Dark Steel Fairy  \n",
       "0     ...    100    200     200  100  100   100    100  100   100    50  \n",
       "1     ...    100    200     200  100  100   100    100  100   100    50  \n",
       "2     ...    100    200     200  100  100   100    100  100   100    50  \n",
       "3     ...    100    200     200  100  100   100    100  100   100    50  \n",
       "4     ...    200    100     100   50  200   100    100  100    50    50  \n",
       "...   ...    ...    ...     ...  ...  ...   ...    ...  ...   ...   ...  \n",
       "1189  ...    100    200     200   25   50   100      0   25   200   200  \n",
       "1190  ...    100    200     200   50   50   100    200   50   100   400  \n",
       "1191  ...    200     50     100  100  100   100    200  100    50   200  \n",
       "1192  ...    100    100     100  100  100   100    200  100    50   200  \n",
       "1193  ...     50    200      50  400  100   200    100  200   100   100  \n",
       "\n",
       "[1194 rows x 54 columns]"
      ]
     },
     "execution_count": 46,
     "metadata": {},
     "output_type": "execute_result"
    }
   ],
   "source": [
    "df"
   ]
  },
  {
   "cell_type": "markdown",
   "id": "089ee25d",
   "metadata": {},
   "source": [
    "# Data Cleaning"
   ]
  },
  {
   "cell_type": "code",
   "execution_count": 48,
   "id": "eaeb796d",
   "metadata": {
    "scrolled": true
   },
   "outputs": [
    {
     "data": {
      "text/plain": [
       "Name               0\n",
       "Image              0\n",
       "National №         0\n",
       "Type               0\n",
       "Species            0\n",
       "Height             0\n",
       "Weight             0\n",
       "Abilities          0\n",
       "Local №            0\n",
       "EV yield           0\n",
       "Catch rate         0\n",
       "Base Friendship    0\n",
       "Base Exp.          0\n",
       "Growth Rate        0\n",
       "Egg Groups         0\n",
       "Gender             0\n",
       "Egg cycles         0\n",
       "HP                 0\n",
       "Min HP             0\n",
       "Max HP             0\n",
       "Attack             0\n",
       "Min Attack         0\n",
       "Max Attack         0\n",
       "Defense            0\n",
       "Min Defense        0\n",
       "Max Defense        0\n",
       "Sp. Atk            0\n",
       "Min Sp. Atk        0\n",
       "Max Sp. Atk        0\n",
       "Sp. Def            0\n",
       "Min Sp. Def        0\n",
       "Max Sp. Def        0\n",
       "Speed              0\n",
       "Min Speed          0\n",
       "Max Speed          0\n",
       "Total              0\n",
       "Normal             0\n",
       "Fire               0\n",
       "Water              0\n",
       "Electric           0\n",
       "Grass              0\n",
       "Ice                0\n",
       "Fighting           0\n",
       "Poison             0\n",
       "Ground             0\n",
       "Flying             0\n",
       "Psychic            0\n",
       "Bug                0\n",
       "Rock               0\n",
       "Ghost              0\n",
       "Dragon             0\n",
       "Dark               0\n",
       "Steel              0\n",
       "Fairy              0\n",
       "dtype: int64"
      ]
     },
     "execution_count": 48,
     "metadata": {},
     "output_type": "execute_result"
    }
   ],
   "source": [
    "df.isna().sum()"
   ]
  },
  {
   "cell_type": "markdown",
   "id": "10bc733a",
   "metadata": {},
   "source": [
    "Even though none of the cells have null values, some have '—'"
   ]
  },
  {
   "cell_type": "code",
   "execution_count": 49,
   "id": "fea46791",
   "metadata": {},
   "outputs": [
    {
     "data": {
      "text/plain": [
       "Index(['Local №', 'EV yield', 'Catch rate', 'Base Friendship', 'Base Exp.',\n",
       "       'Growth Rate', 'Gender', 'Egg cycles'],\n",
       "      dtype='object')"
      ]
     },
     "execution_count": 49,
     "metadata": {},
     "output_type": "execute_result"
    }
   ],
   "source": [
    "df.columns[df.eq('—').any()]"
   ]
  },
  {
   "cell_type": "code",
   "execution_count": 52,
   "id": "4e5a28a5",
   "metadata": {},
   "outputs": [
    {
     "data": {
      "text/html": [
       "<div>\n",
       "<style scoped>\n",
       "    .dataframe tbody tr th:only-of-type {\n",
       "        vertical-align: middle;\n",
       "    }\n",
       "\n",
       "    .dataframe tbody tr th {\n",
       "        vertical-align: top;\n",
       "    }\n",
       "\n",
       "    .dataframe thead th {\n",
       "        text-align: right;\n",
       "    }\n",
       "</style>\n",
       "<table border=\"1\" class=\"dataframe\">\n",
       "  <thead>\n",
       "    <tr style=\"text-align: right;\">\n",
       "      <th></th>\n",
       "      <th>Name</th>\n",
       "      <th>Image</th>\n",
       "      <th>National №</th>\n",
       "      <th>Type</th>\n",
       "      <th>Species</th>\n",
       "      <th>Height</th>\n",
       "      <th>Weight</th>\n",
       "      <th>Abilities</th>\n",
       "      <th>Local №</th>\n",
       "      <th>EV yield</th>\n",
       "      <th>Catch rate</th>\n",
       "      <th>Base Friendship</th>\n",
       "      <th>Base Exp.</th>\n",
       "      <th>Growth Rate</th>\n",
       "      <th>Egg Groups</th>\n",
       "      <th>Gender</th>\n",
       "      <th>Egg cycles</th>\n",
       "      <th>HP</th>\n",
       "      <th>Min HP</th>\n",
       "      <th>Max HP</th>\n",
       "      <th>Attack</th>\n",
       "      <th>Min Attack</th>\n",
       "      <th>Max Attack</th>\n",
       "      <th>Defense</th>\n",
       "      <th>Min Defense</th>\n",
       "      <th>Max Defense</th>\n",
       "      <th>Sp. Atk</th>\n",
       "      <th>Min Sp. Atk</th>\n",
       "      <th>Max Sp. Atk</th>\n",
       "      <th>Sp. Def</th>\n",
       "      <th>Min Sp. Def</th>\n",
       "      <th>Max Sp. Def</th>\n",
       "      <th>Speed</th>\n",
       "      <th>Min Speed</th>\n",
       "      <th>Max Speed</th>\n",
       "      <th>Total</th>\n",
       "      <th>Normal</th>\n",
       "      <th>Fire</th>\n",
       "      <th>Water</th>\n",
       "      <th>Electric</th>\n",
       "      <th>Grass</th>\n",
       "      <th>Ice</th>\n",
       "      <th>Fighting</th>\n",
       "      <th>Poison</th>\n",
       "      <th>Ground</th>\n",
       "      <th>Flying</th>\n",
       "      <th>Psychic</th>\n",
       "      <th>Bug</th>\n",
       "      <th>Rock</th>\n",
       "      <th>Ghost</th>\n",
       "      <th>Dragon</th>\n",
       "      <th>Dark</th>\n",
       "      <th>Steel</th>\n",
       "      <th>Fairy</th>\n",
       "    </tr>\n",
       "  </thead>\n",
       "  <tbody>\n",
       "    <tr>\n",
       "      <th>1192</th>\n",
       "      <td>Walking Wake</td>\n",
       "      <td>https://img.pokemondb.net/artwork/walking-wake...</td>\n",
       "      <td>1009</td>\n",
       "      <td>Water Dragon</td>\n",
       "      <td>Paradox Pokémon</td>\n",
       "      <td>3.5 m (11′06″)</td>\n",
       "      <td>280.0 kg (617.3 lbs)</td>\n",
       "      <td>1. Protosynthesis</td>\n",
       "      <td>—</td>\n",
       "      <td>—</td>\n",
       "      <td>—</td>\n",
       "      <td>—</td>\n",
       "      <td>—</td>\n",
       "      <td>—</td>\n",
       "      <td>Undiscovered</td>\n",
       "      <td>—</td>\n",
       "      <td>—</td>\n",
       "      <td>99</td>\n",
       "      <td>308</td>\n",
       "      <td>402</td>\n",
       "      <td>83</td>\n",
       "      <td>153</td>\n",
       "      <td>291</td>\n",
       "      <td>91</td>\n",
       "      <td>168</td>\n",
       "      <td>309</td>\n",
       "      <td>125</td>\n",
       "      <td>229</td>\n",
       "      <td>383</td>\n",
       "      <td>83</td>\n",
       "      <td>153</td>\n",
       "      <td>291</td>\n",
       "      <td>109</td>\n",
       "      <td>200</td>\n",
       "      <td>348</td>\n",
       "      <td>590</td>\n",
       "      <td>100</td>\n",
       "      <td>25</td>\n",
       "      <td>25</td>\n",
       "      <td>100</td>\n",
       "      <td>100</td>\n",
       "      <td>100</td>\n",
       "      <td>100</td>\n",
       "      <td>100</td>\n",
       "      <td>100</td>\n",
       "      <td>100</td>\n",
       "      <td>100</td>\n",
       "      <td>100</td>\n",
       "      <td>100</td>\n",
       "      <td>100</td>\n",
       "      <td>200</td>\n",
       "      <td>100</td>\n",
       "      <td>50</td>\n",
       "      <td>200</td>\n",
       "    </tr>\n",
       "    <tr>\n",
       "      <th>1193</th>\n",
       "      <td>Iron Leaves</td>\n",
       "      <td>https://img.pokemondb.net/artwork/iron-leaves.jpg</td>\n",
       "      <td>1010</td>\n",
       "      <td>Grass Psychic</td>\n",
       "      <td>Paradox Pokémon</td>\n",
       "      <td>1.5 m (4′11″)</td>\n",
       "      <td>125.0 kg (275.6 lbs)</td>\n",
       "      <td>1. Quark Drive</td>\n",
       "      <td>—</td>\n",
       "      <td>—</td>\n",
       "      <td>—</td>\n",
       "      <td>—</td>\n",
       "      <td>—</td>\n",
       "      <td>—</td>\n",
       "      <td>Undiscovered</td>\n",
       "      <td>—</td>\n",
       "      <td>—</td>\n",
       "      <td>90</td>\n",
       "      <td>290</td>\n",
       "      <td>384</td>\n",
       "      <td>130</td>\n",
       "      <td>238</td>\n",
       "      <td>394</td>\n",
       "      <td>88</td>\n",
       "      <td>162</td>\n",
       "      <td>302</td>\n",
       "      <td>70</td>\n",
       "      <td>130</td>\n",
       "      <td>262</td>\n",
       "      <td>108</td>\n",
       "      <td>198</td>\n",
       "      <td>346</td>\n",
       "      <td>104</td>\n",
       "      <td>191</td>\n",
       "      <td>337</td>\n",
       "      <td>590</td>\n",
       "      <td>100</td>\n",
       "      <td>200</td>\n",
       "      <td>50</td>\n",
       "      <td>50</td>\n",
       "      <td>50</td>\n",
       "      <td>200</td>\n",
       "      <td>50</td>\n",
       "      <td>200</td>\n",
       "      <td>50</td>\n",
       "      <td>200</td>\n",
       "      <td>50</td>\n",
       "      <td>400</td>\n",
       "      <td>100</td>\n",
       "      <td>200</td>\n",
       "      <td>100</td>\n",
       "      <td>200</td>\n",
       "      <td>100</td>\n",
       "      <td>100</td>\n",
       "    </tr>\n",
       "  </tbody>\n",
       "</table>\n",
       "</div>"
      ],
      "text/plain": [
       "              Name                                              Image  \\\n",
       "1192  Walking Wake  https://img.pokemondb.net/artwork/walking-wake...   \n",
       "1193   Iron Leaves  https://img.pokemondb.net/artwork/iron-leaves.jpg   \n",
       "\n",
       "     National №           Type          Species          Height  \\\n",
       "1192       1009   Water Dragon  Paradox Pokémon  3.5 m (11′06″)   \n",
       "1193       1010  Grass Psychic  Paradox Pokémon   1.5 m (4′11″)   \n",
       "\n",
       "                    Weight          Abilities Local № EV yield Catch rate  \\\n",
       "1192  280.0 kg (617.3 lbs)  1. Protosynthesis       —        —          —   \n",
       "1193  125.0 kg (275.6 lbs)     1. Quark Drive       —        —          —   \n",
       "\n",
       "     Base Friendship Base Exp. Growth Rate    Egg Groups Gender Egg cycles  \\\n",
       "1192               —         —           —  Undiscovered      —          —   \n",
       "1193               —         —           —  Undiscovered      —          —   \n",
       "\n",
       "      HP Min HP Max HP Attack Min Attack Max Attack Defense Min Defense  \\\n",
       "1192  99    308    402     83        153        291      91         168   \n",
       "1193  90    290    384    130        238        394      88         162   \n",
       "\n",
       "     Max Defense Sp. Atk Min Sp. Atk Max Sp. Atk Sp. Def Min Sp. Def  \\\n",
       "1192         309     125         229         383      83         153   \n",
       "1193         302      70         130         262     108         198   \n",
       "\n",
       "     Max Sp. Def Speed Min Speed Max Speed Total Normal Fire Water Electric  \\\n",
       "1192         291   109       200       348   590    100   25    25      100   \n",
       "1193         346   104       191       337   590    100  200    50       50   \n",
       "\n",
       "     Grass  Ice Fighting Poison Ground Flying Psychic  Bug Rock Ghost Dragon  \\\n",
       "1192   100  100      100    100    100    100     100  100  100   100    200   \n",
       "1193    50  200       50    200     50    200      50  400  100   200    100   \n",
       "\n",
       "     Dark Steel Fairy  \n",
       "1192  100    50   200  \n",
       "1193  200   100   100  "
      ]
     },
     "execution_count": 52,
     "metadata": {},
     "output_type": "execute_result"
    }
   ],
   "source": [
    "pd.set_option('display.max_columns', None)\n",
    "df[df.eq('—').any(axis=1)]"
   ]
  },
  {
   "cell_type": "markdown",
   "id": "eff39e68",
   "metadata": {},
   "source": [
    "Will replace with 'n/a' since it's only 2 rows "
   ]
  },
  {
   "cell_type": "code",
   "execution_count": null,
   "id": "2a0af599",
   "metadata": {},
   "outputs": [],
   "source": []
  },
  {
   "cell_type": "code",
   "execution_count": null,
   "id": "86bc9410",
   "metadata": {},
   "outputs": [],
   "source": []
  },
  {
   "cell_type": "code",
   "execution_count": null,
   "id": "520a3ccc",
   "metadata": {},
   "outputs": [],
   "source": []
  },
  {
   "cell_type": "markdown",
   "id": "58506989",
   "metadata": {},
   "source": [
    "# Testing functions"
   ]
  },
  {
   "cell_type": "code",
   "execution_count": 78,
   "id": "1b4a448b",
   "metadata": {},
   "outputs": [
    {
     "name": "stdout",
     "output_type": "stream",
     "text": [
      "Index: 7\n"
     ]
    }
   ],
   "source": [
    "#To split when abilities have hidden \n",
    "text = \"1. BlazeSolar Power (hidden ability)\"\n",
    "\n",
    "for i in range(len(text) - 1):\n",
    "    if text[i].islower() and text[i+1].isupper():\n",
    "        index = i\n",
    "        break\n",
    "\n",
    "print(\"Index:\", index)"
   ]
  }
 ],
 "metadata": {
  "kernelspec": {
   "display_name": "Python 3 (ipykernel)",
   "language": "python",
   "name": "python3"
  },
  "language_info": {
   "codemirror_mode": {
    "name": "ipython",
    "version": 3
   },
   "file_extension": ".py",
   "mimetype": "text/x-python",
   "name": "python",
   "nbconvert_exporter": "python",
   "pygments_lexer": "ipython3",
   "version": "3.9.13"
  }
 },
 "nbformat": 4,
 "nbformat_minor": 5
}
